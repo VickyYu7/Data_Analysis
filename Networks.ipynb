{
 "cells": [
  {
   "cell_type": "code",
   "execution_count": 3,
   "metadata": {},
   "outputs": [
    {
     "name": "stdout",
     "output_type": "stream",
     "text": [
      "Requirement already satisfied: networkx in d:\\software\\miniconda\\lib\\site-packages (2.8.8)\n"
     ]
    },
    {
     "name": "stderr",
     "output_type": "stream",
     "text": [
      "WARNING: Ignoring invalid distribution -atplotlib (d:\\software\\miniconda\\lib\\site-packages)\n",
      "WARNING: Ignoring invalid distribution -atplotlib (d:\\software\\miniconda\\lib\\site-packages)\n",
      "WARNING: Ignoring invalid distribution -atplotlib (d:\\software\\miniconda\\lib\\site-packages)\n",
      "WARNING: Ignoring invalid distribution -atplotlib (d:\\software\\miniconda\\lib\\site-packages)\n",
      "WARNING: Ignoring invalid distribution -atplotlib (d:\\software\\miniconda\\lib\\site-packages)\n",
      "WARNING: Ignoring invalid distribution -atplotlib (d:\\software\\miniconda\\lib\\site-packages)\n"
     ]
    }
   ],
   "source": [
    "!pip install networkx"
   ]
  },
  {
   "cell_type": "code",
   "execution_count": 4,
   "metadata": {},
   "outputs": [],
   "source": [
    "import networkx as nx\n",
    "%matplotlib inline\n",
    "import numpy as np\n",
    "import matplotlib.pyplot as plt"
   ]
  },
  {
   "attachments": {},
   "cell_type": "markdown",
   "metadata": {},
   "source": [
    "# Create Simple Networks"
   ]
  },
  {
   "cell_type": "code",
   "execution_count": 5,
   "metadata": {},
   "outputs": [
    {
     "data": {
      "image/png": "[encoded data removed]",
      "text/plain": [
       "<Figure size 432x288 with 1 Axes>"
      ]
     },
     "metadata": {},
     "output_type": "display_data"
    }
   ],
   "source": [
    "simple_network = nx.Graph()\n",
    "nodes = [1,2,3,4,5] # there might be a node not connected to any node, so we still need the nodes list\n",
    "edges = [(1,2),(1,4),(1,3),(3,4),(2,3),(2,5)]\n",
    "simple_network.add_nodes_from(nodes)\n",
    "simple_network.add_edges_from(edges)\n",
    "nx.draw(simple_network)"
   ]
  },
  {
   "cell_type": "code",
   "execution_count": null,
   "metadata": {},
   "outputs": [],
   "source": [
    "pos=nx.spring_layout(simple_network) # positions for all nodes\n",
    "\n",
    "# nodes\n",
    "nx.draw_networkx_nodes(simple_network,pos,\n",
    "                       node_color='r',\n",
    "                       node_size=500,\n",
    "                      alpha=0.8)\n",
    "\n",
    "# edges\n",
    "# nx.draw_networkx_edges(sub_graph,pos,width=8,alpha=0.5)\n",
    "nx.draw_networkx_edges(simple_network,pos,\n",
    "                       edgelist=edges, # I may not highlight every edge, contraol over what edges to draw, use edgelist = edges you want to draw\n",
    "                       width=8,alpha=0.5,edge_color='b')\n",
    "\n",
    "\n",
    "node_name={}\n",
    "for node in simple_network.nodes():\n",
    "    node_name[node]=str(node)\n",
    "\n",
    "nx.draw_networkx_labels(simple_network,pos,node_name,font_size=16)\n",
    "\n",
    "plt.axis('off')\n",
    "plt.show() # display"
   ]
  }
 ],
 "metadata": {
  "kernelspec": {
   "display_name": "base",
   "language": "python",
   "name": "python3"
  },
  "language_info": {
   "codemirror_mode": {
    "name": "ipython",
    "version": 3
   },
   "file_extension": ".py",
   "mimetype": "text/x-python",
   "name": "python",
   "nbconvert_exporter": "python",
   "pygments_lexer": "ipython3",
   "version": "3.9.12"
  },
  "orig_nbformat": 4,
  "vscode": {
   "interpreter": {
    "hash": "e2ad4952f491032d71626255937cf2715f7899e712ce34d34f8ad00db942d78f"
   }
  }
 },
 "nbformat": 4,
 "nbformat_minor": 2
}

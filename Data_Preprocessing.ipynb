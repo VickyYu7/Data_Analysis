{
 "cells": [
  {
   "cell_type": "code",
   "execution_count": 1,
   "metadata": {},
   "outputs": [],
   "source": [
    "def read_311_data(datafile):\n",
    "    import pandas as pd\n",
    "    import numpy as np\n",
    "\n",
    "    #fix_zip: clean the format of zip code and only retain zip between 10000 and 19999\n",
    "    def fix_zip(input_zip):\n",
    "        try:\n",
    "            input_zip = int(float(input_zip))\n",
    "        except:\n",
    "            try:\n",
    "                input_zip = int(input_zip.split('-')[0])\n",
    "            except:\n",
    "                return np.NaN\n",
    "        if input_zip < 10000 or input_zip > 19999:\n",
    "            return np.NaN\n",
    "        return str(input_zip)\n",
    "    \n",
    "    #Read the file and apply fix_zip\n",
    "    df = pd.read_csv(datafile,index_col='Unique Key')\n",
    "    df['Incident Zip'] = df['Incident Zip'].apply(fix_zip)\n",
    "    \n",
    "    #drop all rows that have any nans in them (note the easier syntax!)\n",
    "    df = df.dropna(how='any')\n",
    "    \n",
    "    #get rid of unspecified boroughs\n",
    "    df = df[df['Borough'] != 'Unspecified']\n",
    "    \n",
    "    #Convert times to datetime and create a processing time column\n",
    "    import datetime\n",
    "    df['Created Date'] = df['Created Date'].apply(lambda x:datetime.datetime.strptime(x,'%m/%d/%Y %I:%M:%S %p'))\n",
    "    df['Closed Date'] = df['Closed Date'].apply(lambda x:datetime.datetime.strptime(x,'%m/%d/%Y %I:%M:%S %p'))\n",
    "    df['processing_time'] =  df['Closed Date'] - df['Created Date']\n",
    "    \n",
    "    #Finally, get rid of negative processing times and return the final data frame\n",
    "    df = df[df['processing_time']>=datetime.timedelta(0,0,0)]\n",
    "    \n",
    "    return df"
   ]
  },
  {
   "attachments": {},
   "cell_type": "markdown",
   "metadata": {},
   "source": [
    "# Deal with NaN value"
   ]
  },
  {
   "cell_type": "code",
   "execution_count": null,
   "metadata": {},
   "outputs": [],
   "source": [
    "df = read_311_data(datafile)\n",
    "df = df.dropna() # drop nan value in all columns\n",
    "df = df[df['Incident Zip'].notnull()] # only drop nan value in Incident Zip column\n",
    "nypd_complaints_total = df[df['Agency']=='NYPD']['Borough'].count() \n",
    "# just give back the number of rows of NYPD, .count() only works on Series object"
   ]
  },
  {
   "attachments": {},
   "cell_type": "markdown",
   "metadata": {},
   "source": [
    "# Deal with datetime value"
   ]
  },
  {
   "cell_type": "code",
   "execution_count": null,
   "metadata": {},
   "outputs": [],
   "source": [
    "import datetime\n",
    "import numpy as np\n",
    "import pandas as pd\n",
    "\n",
    "# 1. strptime: string to pandas._libs.tslibs.timestamps.Timestamp object\n",
    "df['Created Date'] = df['Created Date'].apply(lambda x:datetime.datetime.strptime(x,'%m/%d/%Y %I:%M:%S %p')) # from string to datetime object\n",
    "df[df['processing_time']<datetime.timedelta(0,0,0)]\n",
    "# processing_time: pandas._libs.tslibs.timedeltas.Timedelta\n",
    "df['processing_time'] = df['Closed Date'] - df['Created Date']\n",
    "df['float_time'] = df['processing_time'].apply(lambda x:x/np.timedelta64(1, 'D')) # timedelta 1 day, convert into float of how many days\n",
    "df['hour of day'] = df['Created Date'].apply(lambda x:x.hour) # retrive hour of the day\n",
    "df['yyyymm'] = df['Created Date'].apply(lambda x:datetime.datetime.strftime(x,'%Y%m')) # from datetime object to string with specified format\n",
    "\n",
    "# 2. pd.to_datetime: string to pandas._libs.tslibs.timestamps.Timestamp object\n",
    "# Converts a scalar, array-like, Series or DataFrame/dict-like to a pandas datetime object.\n",
    "df[\"tpep_pickup_datetime\"] = pd.to_datetime(df[\"tpep_pickup_datetime\"],infer_datetime_format=True)\n",
    "df['day_of_week'] = df['tpep_pickup_datetime'].apply(lambda x: x.isoweekday())\n",
    "df['pickup_hour'] = df['tpep_pickup_datetime'].apply(lambda x: x.hour)\n",
    "# trip_duration: pandas._libs.tslibs.timedeltas.Timedelta\n",
    "df['trip_duration'] = df['tpep_dropoff_datetime'] - df['tpep_pickup_datetime']\n",
    "df['trip_duration'] = df['trip_duration'].apply(lambda x: x/np.timedelta64(1,'s')) # timedelta 1 second, convert into float of how many seconds"
   ]
  },
  {
   "cell_type": "code",
   "execution_count": null,
   "metadata": {},
   "outputs": [],
   "source": []
  }
 ],
 "metadata": {
  "kernelspec": {
   "display_name": "base",
   "language": "python",
   "name": "python3"
  },
  "language_info": {
   "codemirror_mode": {
    "name": "ipython",
    "version": 3
   },
   "file_extension": ".py",
   "mimetype": "text/x-python",
   "name": "python",
   "nbconvert_exporter": "python",
   "pygments_lexer": "ipython3",
   "version": "3.9.12"
  },
  "orig_nbformat": 4,
  "vscode": {
   "interpreter": {
    "hash": "e2ad4952f491032d71626255937cf2715f7899e712ce34d34f8ad00db942d78f"
   }
  }
 },
 "nbformat": 4,
 "nbformat_minor": 2
}

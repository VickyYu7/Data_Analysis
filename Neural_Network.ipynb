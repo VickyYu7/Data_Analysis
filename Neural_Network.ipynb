{
 "cells": [
  {
   "cell_type": "code",
   "execution_count": 1,
   "metadata": {},
   "outputs": [],
   "source": [
    "import numpy as np\n",
    "\n",
    "def sigmoid(x,deriv=False): # derivative = True, compute the derivative of the point\n",
    "    if deriv:\n",
    "        return x*(1-x) # assumes x is sigmoid(x), sigmoid(sigmoid(z),deriv=True)\n",
    "    return 1/(1+np.exp(-x)) # sigmoid(z,deriv=False)\n",
    "\n",
    "# function return the weight of the first layer\n",
    "def run_net(X,y,activation_function=sigmoid,passes=10): \n",
    "    #passes: how many times you want to do feed forward\n",
    "    np.random.seed(1)\n",
    "    syn0 = 2*np.random.random((3,1)) - 1  # generate a (3,1) random matrix as the weight\n",
    "    for i in range(0,passes):\n",
    "        level_0 = X #input layer has no function application\n",
    "        level_1 = activation_function(np.dot(level_0,syn0)) # we take all rows/examples into the network, parallel processing\n",
    "                                    # (4,1) level 1 shape\n",
    "        level_1_error = y - level_1 #error\n",
    "        level_1_delta = level_1_error * activation_function(level_1,True) # make incremental changes each loop, to find all weights optimal\n",
    "                                                                            # multiple the error by the slope of the point\n",
    "        syn0 += np.dot(level_0.T,level_1_delta)                             # why? beyound the scope, mathmatics\n",
    "    return syn0"
   ]
  },
  {
   "cell_type": "code",
   "execution_count": 2,
   "metadata": {},
   "outputs": [
    {
     "data": {
      "text/plain": [
       "array([[ 1.72057624],\n",
       "       [ 0.23669265],\n",
       "       [-0.84074522]])"
      ]
     },
     "execution_count": 2,
     "metadata": {},
     "output_type": "execute_result"
    }
   ],
   "source": [
    "X = np.array([  [0,0,1],\n",
    "                [0,1,1],\n",
    "                [1,0,1],\n",
    "                [1,1,1] ])  # X shape: (4,3)\n",
    "y = np.array([[0,0,1,1]]).T # y shape: (4,)\n",
    "\n",
    "final_weights = run_net(X,y,sigmoid,10)\n",
    "final_weights"
   ]
  },
  {
   "cell_type": "code",
   "execution_count": 3,
   "metadata": {},
   "outputs": [
    {
     "data": {
      "text/plain": [
       "array([[0.75334332],\n",
       "       [0.35341708],\n",
       "       [0.84820304],\n",
       "       [0.30137786]])"
      ]
     },
     "execution_count": 3,
     "metadata": {},
     "output_type": "execute_result"
    }
   ],
   "source": [
    "test_X = np.array([[1,1,1],[0,1,1],[1,0,0],[0,0,1]])\n",
    "sigmoid(np.dot(test_X,final_weights))"
   ]
  },
  {
   "cell_type": "code",
   "execution_count": 4,
   "metadata": {},
   "outputs": [],
   "source": [
    "def sigmoid(x,deriv=False):\n",
    "    if deriv:\n",
    "        return x*(1-x)\n",
    "    return 1/(1+np.exp(-x))\n",
    "\n",
    "def run_net(X,y,activation_function=sigmoid,passes=10):\n",
    "    import time\n",
    "    np.random.seed(1)\n",
    "    syn0 = 2*np.random.random((3,4)) - 1\n",
    "    syn1 = 2*np.random.random((4,1)) - 1\n",
    "\n",
    "    for i in range(passes):\n",
    "        level_0 = X\n",
    "        level_1 = activation_function(np.dot(level_0,syn0))\n",
    "        level_2 = activation_function(np.dot(level_1,syn1))\n",
    "\n",
    "        #Backpropagate\n",
    "        level_2_error = y - level_2\n",
    "\n",
    "        level_2_delta = level_2_error*activation_function(level_2,deriv=True)\n",
    "\n",
    "        level_1_error = level_2_delta.dot(syn1.T)\n",
    "\n",
    "        level_1_delta = level_1_error * activation_function(level_1,deriv=True)\n",
    "\n",
    "        syn1 += level_1.T.dot(level_2_delta)\n",
    "        syn0 += level_0.T.dot(level_1_delta)\n",
    "    \n",
    "    return syn0,syn1"
   ]
  },
  {
   "cell_type": "code",
   "execution_count": 5,
   "metadata": {},
   "outputs": [
    {
     "data": {
      "text/plain": [
       "array([[0.90612169],\n",
       "       [0.07247266],\n",
       "       [0.94324574],\n",
       "       [0.08962597]])"
      ]
     },
     "execution_count": 5,
     "metadata": {},
     "output_type": "execute_result"
    }
   ],
   "source": [
    "level_0 = test_X\n",
    "syn0,syn1 = run_net(X,y,activation_function=sigmoid,passes=100)\n",
    "level_1 = sigmoid(np.dot(level_0,syn0))\n",
    "level_2 = sigmoid(np.dot(level_1,syn1))\n",
    "level_2"
   ]
  },
  {
   "cell_type": "code",
   "execution_count": null,
   "metadata": {},
   "outputs": [],
   "source": []
  }
 ],
 "metadata": {
  "kernelspec": {
   "display_name": "base",
   "language": "python",
   "name": "python3"
  },
  "language_info": {
   "codemirror_mode": {
    "name": "ipython",
    "version": 3
   },
   "file_extension": ".py",
   "mimetype": "text/x-python",
   "name": "python",
   "nbconvert_exporter": "python",
   "pygments_lexer": "ipython3",
   "version": "3.9.12"
  },
  "orig_nbformat": 4,
  "vscode": {
   "interpreter": {
    "hash": "e2ad4952f491032d71626255937cf2715f7899e712ce34d34f8ad00db942d78f"
   }
  }
 },
 "nbformat": 4,
 "nbformat_minor": 2
}

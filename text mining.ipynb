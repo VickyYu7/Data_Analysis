{
 "cells": [
  {
   "attachments": {},
   "cell_type": "markdown",
   "metadata": {},
   "source": [
    "# Preparation"
   ]
  },
  {
   "cell_type": "code",
   "execution_count": 1,
   "metadata": {},
   "outputs": [
    {
     "name": "stdout",
     "output_type": "stream",
     "text": [
      "[nltk_data] Downloading collection 'all-corpora'\n",
      "[nltk_data]    | \n",
      "[nltk_data]    | Downloading package abc to\n",
      "[nltk_data]    |     C:\\Users\\vicky\\AppData\\Roaming\\nltk_data...\n",
      "[nltk_data]    |   Package abc is already up-to-date!\n",
      "[nltk_data]    | Downloading package alpino to\n",
      "[nltk_data]    |     C:\\Users\\vicky\\AppData\\Roaming\\nltk_data...\n",
      "[nltk_data]    |   Package alpino is already up-to-date!\n",
      "[nltk_data]    | Downloading package bcp47 to\n",
      "[nltk_data]    |     C:\\Users\\vicky\\AppData\\Roaming\\nltk_data...\n",
      "[nltk_data]    |   Package bcp47 is already up-to-date!\n",
      "[nltk_data]    | Downloading package biocreative_ppi to\n",
      "[nltk_data]    |     C:\\Users\\vicky\\AppData\\Roaming\\nltk_data...\n",
      "[nltk_data]    |   Package biocreative_ppi is already up-to-date!\n",
      "[nltk_data]    | Downloading package brown to\n",
      "[nltk_data]    |     C:\\Users\\vicky\\AppData\\Roaming\\nltk_data...\n",
      "[nltk_data]    |   Package brown is already up-to-date!\n",
      "[nltk_data]    | Downloading package brown_tei to\n",
      "[nltk_data]    |     C:\\Users\\vicky\\AppData\\Roaming\\nltk_data...\n",
      "[nltk_data]    |   Package brown_tei is already up-to-date!\n",
      "[nltk_data]    | Downloading package cess_cat to\n",
      "[nltk_data]    |     C:\\Users\\vicky\\AppData\\Roaming\\nltk_data...\n",
      "[nltk_data]    |   Package cess_cat is already up-to-date!\n",
      "[nltk_data]    | Downloading package cess_esp to\n",
      "[nltk_data]    |     C:\\Users\\vicky\\AppData\\Roaming\\nltk_data...\n",
      "[nltk_data]    |   Package cess_esp is already up-to-date!\n",
      "[nltk_data]    | Downloading package chat80 to\n",
      "[nltk_data]    |     C:\\Users\\vicky\\AppData\\Roaming\\nltk_data...\n",
      "[nltk_data]    |   Package chat80 is already up-to-date!\n",
      "[nltk_data]    | Downloading package city_database to\n",
      "[nltk_data]    |     C:\\Users\\vicky\\AppData\\Roaming\\nltk_data...\n",
      "[nltk_data]    |   Package city_database is already up-to-date!\n",
      "[nltk_data]    | Downloading package cmudict to\n",
      "[nltk_data]    |     C:\\Users\\vicky\\AppData\\Roaming\\nltk_data...\n",
      "[nltk_data]    |   Package cmudict is already up-to-date!\n",
      "[nltk_data]    | Downloading package comparative_sentences to\n",
      "[nltk_data]    |     C:\\Users\\vicky\\AppData\\Roaming\\nltk_data...\n",
      "[nltk_data]    |   Package comparative_sentences is already up-to-\n",
      "[nltk_data]    |       date!\n",
      "[nltk_data]    | Downloading package comtrans to\n",
      "[nltk_data]    |     C:\\Users\\vicky\\AppData\\Roaming\\nltk_data...\n",
      "[nltk_data]    |   Package comtrans is already up-to-date!\n",
      "[nltk_data]    | Downloading package conll2000 to\n",
      "[nltk_data]    |     C:\\Users\\vicky\\AppData\\Roaming\\nltk_data...\n",
      "[nltk_data]    |   Package conll2000 is already up-to-date!\n",
      "[nltk_data]    | Downloading package conll2002 to\n",
      "[nltk_data]    |     C:\\Users\\vicky\\AppData\\Roaming\\nltk_data...\n",
      "[nltk_data]    |   Package conll2002 is already up-to-date!\n",
      "[nltk_data]    | Downloading package conll2007 to\n",
      "[nltk_data]    |     C:\\Users\\vicky\\AppData\\Roaming\\nltk_data...\n",
      "[nltk_data]    |   Package conll2007 is already up-to-date!\n",
      "[nltk_data]    | Downloading package crubadan to\n",
      "[nltk_data]    |     C:\\Users\\vicky\\AppData\\Roaming\\nltk_data...\n",
      "[nltk_data]    |   Package crubadan is already up-to-date!\n",
      "[nltk_data]    | Downloading package dependency_treebank to\n",
      "[nltk_data]    |     C:\\Users\\vicky\\AppData\\Roaming\\nltk_data...\n",
      "[nltk_data]    |   Package dependency_treebank is already up-to-date!\n",
      "[nltk_data]    | Downloading package dolch to\n",
      "[nltk_data]    |     C:\\Users\\vicky\\AppData\\Roaming\\nltk_data...\n",
      "[nltk_data]    |   Package dolch is already up-to-date!\n",
      "[nltk_data]    | Downloading package europarl_raw to\n",
      "[nltk_data]    |     C:\\Users\\vicky\\AppData\\Roaming\\nltk_data...\n",
      "[nltk_data]    |   Package europarl_raw is already up-to-date!\n",
      "[nltk_data]    | Downloading package extended_omw to\n",
      "[nltk_data]    |     C:\\Users\\vicky\\AppData\\Roaming\\nltk_data...\n",
      "[nltk_data]    |   Package extended_omw is already up-to-date!\n",
      "[nltk_data]    | Downloading package floresta to\n",
      "[nltk_data]    |     C:\\Users\\vicky\\AppData\\Roaming\\nltk_data...\n",
      "[nltk_data]    |   Package floresta is already up-to-date!\n",
      "[nltk_data]    | Downloading package framenet_v15 to\n",
      "[nltk_data]    |     C:\\Users\\vicky\\AppData\\Roaming\\nltk_data...\n",
      "[nltk_data]    |   Package framenet_v15 is already up-to-date!\n",
      "[nltk_data]    | Downloading package framenet_v17 to\n",
      "[nltk_data]    |     C:\\Users\\vicky\\AppData\\Roaming\\nltk_data...\n",
      "[nltk_data]    |   Package framenet_v17 is already up-to-date!\n",
      "[nltk_data]    | Downloading package gazetteers to\n",
      "[nltk_data]    |     C:\\Users\\vicky\\AppData\\Roaming\\nltk_data...\n",
      "[nltk_data]    |   Package gazetteers is already up-to-date!\n",
      "[nltk_data]    | Downloading package genesis to\n",
      "[nltk_data]    |     C:\\Users\\vicky\\AppData\\Roaming\\nltk_data...\n",
      "[nltk_data]    |   Package genesis is already up-to-date!\n",
      "[nltk_data]    | Downloading package gutenberg to\n",
      "[nltk_data]    |     C:\\Users\\vicky\\AppData\\Roaming\\nltk_data...\n",
      "[nltk_data]    |   Package gutenberg is already up-to-date!\n",
      "[nltk_data]    | Downloading package ieer to\n",
      "[nltk_data]    |     C:\\Users\\vicky\\AppData\\Roaming\\nltk_data...\n",
      "[nltk_data]    |   Package ieer is already up-to-date!\n",
      "[nltk_data]    | Downloading package inaugural to\n",
      "[nltk_data]    |     C:\\Users\\vicky\\AppData\\Roaming\\nltk_data...\n",
      "[nltk_data]    |   Package inaugural is already up-to-date!\n",
      "[nltk_data]    | Downloading package indian to\n",
      "[nltk_data]    |     C:\\Users\\vicky\\AppData\\Roaming\\nltk_data...\n",
      "[nltk_data]    |   Package indian is already up-to-date!\n",
      "[nltk_data]    | Downloading package jeita to\n",
      "[nltk_data]    |     C:\\Users\\vicky\\AppData\\Roaming\\nltk_data...\n",
      "[nltk_data]    |   Package jeita is already up-to-date!\n",
      "[nltk_data]    | Downloading package kimmo to\n",
      "[nltk_data]    |     C:\\Users\\vicky\\AppData\\Roaming\\nltk_data...\n",
      "[nltk_data]    |   Package kimmo is already up-to-date!\n",
      "[nltk_data]    | Downloading package knbc to\n",
      "[nltk_data]    |     C:\\Users\\vicky\\AppData\\Roaming\\nltk_data...\n",
      "[nltk_data]    |   Package knbc is already up-to-date!\n",
      "[nltk_data]    | Downloading package lin_thesaurus to\n",
      "[nltk_data]    |     C:\\Users\\vicky\\AppData\\Roaming\\nltk_data...\n",
      "[nltk_data]    |   Package lin_thesaurus is already up-to-date!\n",
      "[nltk_data]    | Downloading package mac_morpho to\n",
      "[nltk_data]    |     C:\\Users\\vicky\\AppData\\Roaming\\nltk_data...\n",
      "[nltk_data]    |   Package mac_morpho is already up-to-date!\n",
      "[nltk_data]    | Downloading package machado to\n",
      "[nltk_data]    |     C:\\Users\\vicky\\AppData\\Roaming\\nltk_data...\n",
      "[nltk_data]    |   Package machado is already up-to-date!\n",
      "[nltk_data]    | Downloading package masc_tagged to\n",
      "[nltk_data]    |     C:\\Users\\vicky\\AppData\\Roaming\\nltk_data...\n",
      "[nltk_data]    |   Package masc_tagged is already up-to-date!\n",
      "[nltk_data]    | Downloading package movie_reviews to\n",
      "[nltk_data]    |     C:\\Users\\vicky\\AppData\\Roaming\\nltk_data...\n",
      "[nltk_data]    |   Package movie_reviews is already up-to-date!\n",
      "[nltk_data]    | Downloading package mte_teip5 to\n",
      "[nltk_data]    |     C:\\Users\\vicky\\AppData\\Roaming\\nltk_data...\n",
      "[nltk_data]    |   Package mte_teip5 is already up-to-date!\n",
      "[nltk_data]    | Downloading package names to\n",
      "[nltk_data]    |     C:\\Users\\vicky\\AppData\\Roaming\\nltk_data...\n",
      "[nltk_data]    |   Package names is already up-to-date!\n",
      "[nltk_data]    | Downloading package nombank.1.0 to\n",
      "[nltk_data]    |     C:\\Users\\vicky\\AppData\\Roaming\\nltk_data...\n",
      "[nltk_data]    |   Package nombank.1.0 is already up-to-date!\n",
      "[nltk_data]    | Downloading package nonbreaking_prefixes to\n",
      "[nltk_data]    |     C:\\Users\\vicky\\AppData\\Roaming\\nltk_data...\n",
      "[nltk_data]    |   Package nonbreaking_prefixes is already up-to-date!\n",
      "[nltk_data]    | Downloading package nps_chat to\n",
      "[nltk_data]    |     C:\\Users\\vicky\\AppData\\Roaming\\nltk_data...\n",
      "[nltk_data]    |   Package nps_chat is already up-to-date!\n",
      "[nltk_data]    | Downloading package omw to\n",
      "[nltk_data]    |     C:\\Users\\vicky\\AppData\\Roaming\\nltk_data...\n",
      "[nltk_data]    |   Package omw is already up-to-date!\n",
      "[nltk_data]    | Downloading package omw-1.4 to\n",
      "[nltk_data]    |     C:\\Users\\vicky\\AppData\\Roaming\\nltk_data...\n",
      "[nltk_data]    |   Package omw-1.4 is already up-to-date!\n",
      "[nltk_data]    | Downloading package opinion_lexicon to\n",
      "[nltk_data]    |     C:\\Users\\vicky\\AppData\\Roaming\\nltk_data...\n",
      "[nltk_data]    |   Package opinion_lexicon is already up-to-date!\n",
      "[nltk_data]    | Downloading package panlex_swadesh to\n",
      "[nltk_data]    |     C:\\Users\\vicky\\AppData\\Roaming\\nltk_data...\n",
      "[nltk_data]    |   Package panlex_swadesh is already up-to-date!\n",
      "[nltk_data]    | Downloading package paradigms to\n",
      "[nltk_data]    |     C:\\Users\\vicky\\AppData\\Roaming\\nltk_data...\n",
      "[nltk_data]    |   Package paradigms is already up-to-date!\n",
      "[nltk_data]    | Downloading package pe08 to\n",
      "[nltk_data]    |     C:\\Users\\vicky\\AppData\\Roaming\\nltk_data...\n",
      "[nltk_data]    |   Package pe08 is already up-to-date!\n",
      "[nltk_data]    | Downloading package pil to\n",
      "[nltk_data]    |     C:\\Users\\vicky\\AppData\\Roaming\\nltk_data...\n",
      "[nltk_data]    |   Package pil is already up-to-date!\n",
      "[nltk_data]    | Downloading package pl196x to\n",
      "[nltk_data]    |     C:\\Users\\vicky\\AppData\\Roaming\\nltk_data...\n",
      "[nltk_data]    |   Package pl196x is already up-to-date!\n",
      "[nltk_data]    | Downloading package ppattach to\n",
      "[nltk_data]    |     C:\\Users\\vicky\\AppData\\Roaming\\nltk_data...\n",
      "[nltk_data]    |   Package ppattach is already up-to-date!\n",
      "[nltk_data]    | Downloading package problem_reports to\n",
      "[nltk_data]    |     C:\\Users\\vicky\\AppData\\Roaming\\nltk_data...\n",
      "[nltk_data]    |   Package problem_reports is already up-to-date!\n",
      "[nltk_data]    | Downloading package product_reviews_1 to\n",
      "[nltk_data]    |     C:\\Users\\vicky\\AppData\\Roaming\\nltk_data...\n",
      "[nltk_data]    |   Package product_reviews_1 is already up-to-date!\n",
      "[nltk_data]    | Downloading package product_reviews_2 to\n",
      "[nltk_data]    |     C:\\Users\\vicky\\AppData\\Roaming\\nltk_data...\n",
      "[nltk_data]    |   Package product_reviews_2 is already up-to-date!\n",
      "[nltk_data]    | Downloading package propbank to\n",
      "[nltk_data]    |     C:\\Users\\vicky\\AppData\\Roaming\\nltk_data...\n",
      "[nltk_data]    |   Package propbank is already up-to-date!\n",
      "[nltk_data]    | Downloading package pros_cons to\n",
      "[nltk_data]    |     C:\\Users\\vicky\\AppData\\Roaming\\nltk_data...\n",
      "[nltk_data]    |   Package pros_cons is already up-to-date!\n",
      "[nltk_data]    | Downloading package ptb to\n",
      "[nltk_data]    |     C:\\Users\\vicky\\AppData\\Roaming\\nltk_data...\n",
      "[nltk_data]    |   Package ptb is already up-to-date!\n",
      "[nltk_data]    | Downloading package qc to\n",
      "[nltk_data]    |     C:\\Users\\vicky\\AppData\\Roaming\\nltk_data...\n",
      "[nltk_data]    |   Package qc is already up-to-date!\n",
      "[nltk_data]    | Downloading package reuters to\n",
      "[nltk_data]    |     C:\\Users\\vicky\\AppData\\Roaming\\nltk_data...\n",
      "[nltk_data]    |   Package reuters is already up-to-date!\n",
      "[nltk_data]    | Downloading package rte to\n",
      "[nltk_data]    |     C:\\Users\\vicky\\AppData\\Roaming\\nltk_data...\n",
      "[nltk_data]    |   Package rte is already up-to-date!\n",
      "[nltk_data]    | Downloading package semcor to\n",
      "[nltk_data]    |     C:\\Users\\vicky\\AppData\\Roaming\\nltk_data...\n",
      "[nltk_data]    |   Package semcor is already up-to-date!\n",
      "[nltk_data]    | Downloading package senseval to\n",
      "[nltk_data]    |     C:\\Users\\vicky\\AppData\\Roaming\\nltk_data...\n",
      "[nltk_data]    |   Package senseval is already up-to-date!\n",
      "[nltk_data]    | Downloading package sentence_polarity to\n",
      "[nltk_data]    |     C:\\Users\\vicky\\AppData\\Roaming\\nltk_data...\n",
      "[nltk_data]    |   Package sentence_polarity is already up-to-date!\n",
      "[nltk_data]    | Downloading package sentiwordnet to\n",
      "[nltk_data]    |     C:\\Users\\vicky\\AppData\\Roaming\\nltk_data...\n",
      "[nltk_data]    |   Package sentiwordnet is already up-to-date!\n",
      "[nltk_data]    | Downloading package shakespeare to\n",
      "[nltk_data]    |     C:\\Users\\vicky\\AppData\\Roaming\\nltk_data...\n",
      "[nltk_data]    |   Package shakespeare is already up-to-date!\n",
      "[nltk_data]    | Downloading package sinica_treebank to\n",
      "[nltk_data]    |     C:\\Users\\vicky\\AppData\\Roaming\\nltk_data...\n",
      "[nltk_data]    |   Package sinica_treebank is already up-to-date!\n",
      "[nltk_data]    | Downloading package smultron to\n",
      "[nltk_data]    |     C:\\Users\\vicky\\AppData\\Roaming\\nltk_data...\n",
      "[nltk_data]    |   Package smultron is already up-to-date!\n",
      "[nltk_data]    | Downloading package state_union to\n",
      "[nltk_data]    |     C:\\Users\\vicky\\AppData\\Roaming\\nltk_data...\n",
      "[nltk_data]    |   Package state_union is already up-to-date!\n",
      "[nltk_data]    | Downloading package stopwords to\n",
      "[nltk_data]    |     C:\\Users\\vicky\\AppData\\Roaming\\nltk_data...\n",
      "[nltk_data]    |   Package stopwords is already up-to-date!\n",
      "[nltk_data]    | Downloading package subjectivity to\n",
      "[nltk_data]    |     C:\\Users\\vicky\\AppData\\Roaming\\nltk_data...\n",
      "[nltk_data]    |   Package subjectivity is already up-to-date!\n",
      "[nltk_data]    | Downloading package swadesh to\n",
      "[nltk_data]    |     C:\\Users\\vicky\\AppData\\Roaming\\nltk_data...\n",
      "[nltk_data]    |   Package swadesh is already up-to-date!\n",
      "[nltk_data]    | Downloading package switchboard to\n",
      "[nltk_data]    |     C:\\Users\\vicky\\AppData\\Roaming\\nltk_data...\n",
      "[nltk_data]    |   Package switchboard is already up-to-date!\n",
      "[nltk_data]    | Downloading package timit to\n",
      "[nltk_data]    |     C:\\Users\\vicky\\AppData\\Roaming\\nltk_data...\n",
      "[nltk_data]    |   Package timit is already up-to-date!\n",
      "[nltk_data]    | Downloading package toolbox to\n",
      "[nltk_data]    |     C:\\Users\\vicky\\AppData\\Roaming\\nltk_data...\n",
      "[nltk_data]    |   Package toolbox is already up-to-date!\n",
      "[nltk_data]    | Downloading package treebank to\n",
      "[nltk_data]    |     C:\\Users\\vicky\\AppData\\Roaming\\nltk_data...\n",
      "[nltk_data]    |   Package treebank is already up-to-date!\n",
      "[nltk_data]    | Downloading package twitter_samples to\n",
      "[nltk_data]    |     C:\\Users\\vicky\\AppData\\Roaming\\nltk_data...\n",
      "[nltk_data]    |   Package twitter_samples is already up-to-date!\n",
      "[nltk_data]    | Downloading package udhr to\n",
      "[nltk_data]    |     C:\\Users\\vicky\\AppData\\Roaming\\nltk_data...\n",
      "[nltk_data]    |   Package udhr is already up-to-date!\n",
      "[nltk_data]    | Downloading package udhr2 to\n",
      "[nltk_data]    |     C:\\Users\\vicky\\AppData\\Roaming\\nltk_data...\n",
      "[nltk_data]    |   Package udhr2 is already up-to-date!\n",
      "[nltk_data]    | Downloading package unicode_samples to\n",
      "[nltk_data]    |     C:\\Users\\vicky\\AppData\\Roaming\\nltk_data...\n",
      "[nltk_data]    |   Package unicode_samples is already up-to-date!\n",
      "[nltk_data]    | Downloading package universal_treebanks_v20 to\n",
      "[nltk_data]    |     C:\\Users\\vicky\\AppData\\Roaming\\nltk_data...\n",
      "[nltk_data]    |   Package universal_treebanks_v20 is already up-to-\n",
      "[nltk_data]    |       date!\n",
      "[nltk_data]    | Downloading package verbnet to\n",
      "[nltk_data]    |     C:\\Users\\vicky\\AppData\\Roaming\\nltk_data...\n",
      "[nltk_data]    |   Package verbnet is already up-to-date!\n",
      "[nltk_data]    | Downloading package verbnet3 to\n",
      "[nltk_data]    |     C:\\Users\\vicky\\AppData\\Roaming\\nltk_data...\n",
      "[nltk_data]    |   Package verbnet3 is already up-to-date!\n",
      "[nltk_data]    | Downloading package webtext to\n",
      "[nltk_data]    |     C:\\Users\\vicky\\AppData\\Roaming\\nltk_data...\n",
      "[nltk_data]    |   Package webtext is already up-to-date!\n",
      "[nltk_data]    | Downloading package wordnet to\n",
      "[nltk_data]    |     C:\\Users\\vicky\\AppData\\Roaming\\nltk_data...\n",
      "[nltk_data]    |   Package wordnet is already up-to-date!\n",
      "[nltk_data]    | Downloading package wordnet2021 to\n",
      "[nltk_data]    |     C:\\Users\\vicky\\AppData\\Roaming\\nltk_data...\n",
      "[nltk_data]    |   Package wordnet2021 is already up-to-date!\n",
      "[nltk_data]    | Downloading package wordnet31 to\n",
      "[nltk_data]    |     C:\\Users\\vicky\\AppData\\Roaming\\nltk_data...\n",
      "[nltk_data]    |   Package wordnet31 is already up-to-date!\n",
      "[nltk_data]    | Downloading package wordnet_ic to\n",
      "[nltk_data]    |     C:\\Users\\vicky\\AppData\\Roaming\\nltk_data...\n",
      "[nltk_data]    |   Package wordnet_ic is already up-to-date!\n",
      "[nltk_data]    | Downloading package words to\n",
      "[nltk_data]    |     C:\\Users\\vicky\\AppData\\Roaming\\nltk_data...\n",
      "[nltk_data]    |   Package words is already up-to-date!\n",
      "[nltk_data]    | Downloading package ycoe to\n",
      "[nltk_data]    |     C:\\Users\\vicky\\AppData\\Roaming\\nltk_data...\n",
      "[nltk_data]    |   Package ycoe is already up-to-date!\n",
      "[nltk_data]    | \n",
      "[nltk_data]  Done downloading collection all-corpora\n",
      "showing info https://raw.githubusercontent.com/nltk/nltk_data/gh-pages/index.xml\n"
     ]
    },
    {
     "data": {
      "text/plain": [
       "True"
      ]
     },
     "execution_count": 1,
     "metadata": {},
     "output_type": "execute_result"
    }
   ],
   "source": [
    "import nltk\n",
    "nltk.download('all-corpora')\n",
    "nltk.download()"
   ]
  },
  {
   "cell_type": "code",
   "execution_count": 50,
   "metadata": {},
   "outputs": [],
   "source": [
    "with open(r\"C:\\Users\\vicky\\Downloads\\data\\community.txt\",'r') as f:\n",
    "    community = f.read()\n",
    "with open(r\"C:\\Users\\vicky\\Downloads\\data\\le_monde.txt\",'r') as f:\n",
    "    le_monde = f.read()"
   ]
  },
  {
   "attachments": {},
   "cell_type": "markdown",
   "metadata": {},
   "source": [
    "Slate story scrapping"
   ]
  },
  {
   "cell_type": "code",
   "execution_count": 18,
   "metadata": {},
   "outputs": [
    {
     "data": {
      "text/plain": [
       "6"
      ]
     },
     "execution_count": 18,
     "metadata": {},
     "output_type": "execute_result"
    }
   ],
   "source": [
    "import requests\n",
    "from bs4 import BeautifulSoup\n",
    "\n",
    "# 1. get links under desired categories\n",
    "url=\"https://www.slate.com\"\n",
    "page = requests.get(url)\n",
    "bs_page = BeautifulSoup(page.content,'lxml')\n",
    "all_links = bs_page.find_all('a')\n",
    "categories = ['news_and_politics','news-and-politics']\n",
    "followable_links = list()\n",
    "for link in all_links:\n",
    "    href = link.get('href')\n",
    "    if href:\n",
    "        for cat in categories:\n",
    "            if cat in href:\n",
    "                followable_links.append(href)\n",
    "\n",
    "# 2. Get the story lists from followable links\n",
    "story_list = list()\n",
    "count=0\n",
    "for link in followable_links:\n",
    "    try:\n",
    "        page=BeautifulSoup(requests.get(link).content,'lxml')\n",
    "        text=page.find('body').find('section',class_='article__body').get_text().strip()\n",
    "        story_list.append(text)\n",
    "        count+=1\n",
    "    except:\n",
    "        continue\n",
    "\n",
    "len(story_list)"
   ]
  },
  {
   "attachments": {},
   "cell_type": "markdown",
   "metadata": {},
   "source": [
    "# Element Understanding"
   ]
  },
  {
   "attachments": {},
   "cell_type": "markdown",
   "metadata": {},
   "source": [
    "### Tokenizer"
   ]
  },
  {
   "attachments": {},
   "cell_type": "markdown",
   "metadata": {},
   "source": [
    "1. word_tokenize(s): returns a list of words without punctuation\n",
    "2. sentence_tokenize(s): returns a list or sentences\n",
    "3. nltk.Text: return the text of concating all token together"
   ]
  },
  {
   "cell_type": "code",
   "execution_count": 37,
   "metadata": {},
   "outputs": [],
   "source": [
    "import nltk\n",
    "from nltk import sent_tokenize,word_tokenize\n",
    "\n",
    "text = '''Good muffins cost $3.88\\nin New York.  Please buy me\n",
    "... two of them.\\n\\nThanks.'''\n",
    "sentences = sent_tokenize(text)\n",
    "words = nltk.Text(word_tokenize(text))"
   ]
  },
  {
   "cell_type": "code",
   "execution_count": 38,
   "metadata": {},
   "outputs": [
    {
     "data": {
      "text/plain": [
       "['Good muffins cost $3.88\\nin New York.',\n",
       " 'Please buy me\\n... two of them.',\n",
       " 'Thanks.']"
      ]
     },
     "execution_count": 38,
     "metadata": {},
     "output_type": "execute_result"
    }
   ],
   "source": [
    "sentences"
   ]
  },
  {
   "cell_type": "code",
   "execution_count": 40,
   "metadata": {},
   "outputs": [
    {
     "data": {
      "text/plain": [
       "<Text: Good muffins cost $ 3.88 in New York...>"
      ]
     },
     "execution_count": 40,
     "metadata": {},
     "output_type": "execute_result"
    }
   ],
   "source": [
    "words"
   ]
  },
  {
   "attachments": {},
   "cell_type": "markdown",
   "metadata": {},
   "source": [
    "### Corpus: an organized set of text documents"
   ]
  },
  {
   "attachments": {},
   "cell_type": "markdown",
   "metadata": {},
   "source": [
    "### Stemming"
   ]
  },
  {
   "attachments": {},
   "cell_type": "markdown",
   "metadata": {},
   "source": [
    "- Porter Stemming Algorithm (https://tartarus.org/martin/PorterStemmer/)"
   ]
  },
  {
   "cell_type": "code",
   "execution_count": 48,
   "metadata": {},
   "outputs": [
    {
     "data": {
      "text/plain": [
       "['fellow-citizen',\n",
       " 'of',\n",
       " 'the',\n",
       " 'senat',\n",
       " 'and',\n",
       " 'of',\n",
       " 'the',\n",
       " 'hous',\n",
       " 'of',\n",
       " 'repres']"
      ]
     },
     "execution_count": 48,
     "metadata": {},
     "output_type": "execute_result"
    }
   ],
   "source": [
    "from nltk.stem.porter import PorterStemmer\n",
    "from nltk.corpus import inaugural\n",
    "\n",
    "p_stemmer = PorterStemmer()\n",
    "text = inaugural.raw() # combine all inaugural files together\n",
    "striptext = text.replace('\\n\\n', ' ')\n",
    "striptext = striptext.replace('\\n', ' ')\n",
    "words = word_tokenize(striptext)\n",
    "text = [p_stemmer.stem(i).lower() for i in words]\n",
    "text[:10]"
   ]
  },
  {
   "attachments": {},
   "cell_type": "markdown",
   "metadata": {},
   "source": [
    "### Concordance"
   ]
  },
  {
   "attachments": {},
   "cell_type": "markdown",
   "metadata": {},
   "source": [
    "concordance prints text fragments around the given word, useful for a quick look but it \"prints\" not \"returns\""
   ]
  },
  {
   "cell_type": "code",
   "execution_count": 72,
   "metadata": {},
   "outputs": [
    {
     "name": "stdout",
     "output_type": "stream",
     "text": [
      "Displaying 8 of 8 matches:\n",
      " such setup but there ' s a liveliness in the Columbia area vibe which prefers this setup . There ' \n",
      "ge of such nice sit - down restaurants in the Columbia area so this place is not only capitalizing o\n",
      "mosasas . Community is a brunch place next to Columbia . I came here one day to meet up with my cous\n",
      " day to meet up with my cousin who studies at Columbia . Seated around 10 mins on a cozy Sat morning\n",
      "nd with these crowds . \" I have a degree from Columbia , and now I have to get one from America .\" -\n",
      "ver , is actually pursuing a REAL degree from Columbia University -- not Colombia the country , unli\n",
      " than that -- and because of its proximity to Columbia ' s campus . Community Food & Juice is litera\n",
      " The restaurant is within walking distance of Columbia , and I would recommend for a nice brunch in \n"
     ]
    }
   ],
   "source": [
    "nltk.Text(community_data.words()).concordance('Columbia',100)"
   ]
  },
  {
   "attachments": {},
   "cell_type": "markdown",
   "metadata": {},
   "source": [
    "### .words()"
   ]
  },
  {
   "cell_type": "code",
   "execution_count": 75,
   "metadata": {},
   "outputs": [
    {
     "data": {
      "text/plain": [
       "['I', 'ate', 'here', 'Monday', 'night', 'for', 'a', ...]"
      ]
     },
     "execution_count": 75,
     "metadata": {},
     "output_type": "execute_result"
    }
   ],
   "source": [
    "community_data.words()"
   ]
  },
  {
   "attachments": {},
   "cell_type": "markdown",
   "metadata": {},
   "source": [
    "# Build Corpus"
   ]
  },
  {
   "attachments": {},
   "cell_type": "markdown",
   "metadata": {},
   "source": [
    "### 1. By reading a collection of documents or fragments"
   ]
  },
  {
   "attachments": {},
   "cell_type": "markdown",
   "metadata": {},
   "source": [
    "- PlainTextCorpusReader reads all matching files in a directory and saves them by fileids\n",
    "- PlainTextCorpusReader.raw(fileid), must use file name as fileid can return all text in the file"
   ]
  },
  {
   "cell_type": "code",
   "execution_count": 4,
   "metadata": {},
   "outputs": [],
   "source": [
    "import nltk\n",
    "from nltk.corpus import PlaintextCorpusReader\n",
    "community_root = r\"C:\\Users\\vicky\\Downloads\\data\\community\" \n",
    "le_monde_root = r\"C:\\Users\\vicky\\Downloads\\data\\le_monde\"\n",
    "community_files = \"community.*\"\n",
    "le_monde_files = \"le_monde.*\"\n",
    "shakeshack_root = r\"C:\\Users\\vicky\\Downloads\\data\\shakeshack\"\n",
    "shakeshack_files = \"shakeshack.*\"\n",
    "fiveguys_root = r\"C:\\Users\\vicky\\Downloads\\data\\fiveguys\"\n",
    "fiveguys_files = \"fiveguys.*\"\n",
    "community_data = PlaintextCorpusReader(community_root,community_files)\n",
    "le_monde_data = PlaintextCorpusReader(le_monde_root,le_monde_files)\n",
    "shakeshack_data = PlaintextCorpusReader(shakeshack_root,shakeshack_files)\n",
    "fiveguys_data = PlaintextCorpusReader(fiveguys_root,fiveguys_files)"
   ]
  },
  {
   "cell_type": "code",
   "execution_count": null,
   "metadata": {},
   "outputs": [
    {
     "data": {
      "text/plain": [
       "['community.1',\n",
       " 'community.10',\n",
       " 'community.11',\n",
       " 'community.12',\n",
       " 'community.13',\n",
       " 'community.14',\n",
       " 'community.15',\n",
       " 'community.16',\n",
       " 'community.17',\n",
       " 'community.18',\n",
       " 'community.19',\n",
       " 'community.2',\n",
       " 'community.20',\n",
       " 'community.21',\n",
       " 'community.3',\n",
       " 'community.4',\n",
       " 'community.5',\n",
       " 'community.6',\n",
       " 'community.7',\n",
       " 'community.8',\n",
       " 'community.9']"
      ]
     },
     "metadata": {},
     "output_type": "display_data"
    }
   ],
   "source": [
    "community_data.fileids()"
   ]
  },
  {
   "cell_type": "code",
   "execution_count": null,
   "metadata": {},
   "outputs": [
    {
     "data": {
      "text/plain": [
       "\"Everyone kept saying how good shake shack it is but I beg otherwise. Personally, I think it's a bit overpriced. A small burger, fries, and a signature shake are like ~$16 dollars. \\n\\nAs many have mentioned already, the burger is cold/warm when I received the burger since there is no cover over the burger. As for the shake itself, I find it really watery and greasy (from the whipped cream). If compared to California's In-N-Out burger I would rather prefer In-N-Out. Not like I eat at In-N-Out much but the flavor is better in my personal opinion.\\n\\nOverall, I wouldn't really spend the $$ for the food here. I don't think it's worth it.\\n\""
      ]
     },
     "metadata": {},
     "output_type": "display_data"
    }
   ],
   "source": [
    "shakeshack_data.raw('shakeshack.6') # return the content of the shakeshack file with id: shakeshack.6"
   ]
  },
  {
   "attachments": {},
   "cell_type": "markdown",
   "metadata": {},
   "source": [
    "**restaurant_data is the corpus we created**"
   ]
  },
  {
   "cell_type": "code",
   "execution_count": 62,
   "metadata": {},
   "outputs": [],
   "source": [
    "restaurant_data = [('community',community_data.raw()),('le monde',le_monde_data.raw())\n",
    "                  ,('shakeshack',shakeshack_data.raw()), ('fiveguys',fiveguys_data.raw())] # compact all reviews in .raw() without sepcifying file ids"
   ]
  },
  {
   "attachments": {},
   "cell_type": "markdown",
   "metadata": {},
   "source": [
    "### 2. By using nltk sample corpus"
   ]
  },
  {
   "cell_type": "code",
   "execution_count": 56,
   "metadata": {},
   "outputs": [],
   "source": [
    "import nltk\n",
    "from nltk.book import *\n",
    "\n",
    "all_addresses = list()\n",
    "for file in inaugural.fileids():\n",
    "    all_addresses.append((file,inaugural.raw(file))) # (file_name, file_context)"
   ]
  },
  {
   "cell_type": "code",
   "execution_count": null,
   "metadata": {},
   "outputs": [],
   "source": [
    "all_addresses[:1]"
   ]
  },
  {
   "attachments": {},
   "cell_type": "markdown",
   "metadata": {},
   "source": [
    "# Word Clouds"
   ]
  },
  {
   "cell_type": "code",
   "execution_count": null,
   "metadata": {},
   "outputs": [
    {
     "name": "stdout",
     "output_type": "stream",
     "text": [
      "Collecting wordcloud\n",
      "  Downloading wordcloud-1.8.2.2-cp39-cp39-win_amd64.whl (153 kB)\n",
      "     -------------------------------------- 153.1/153.1 kB 4.6 MB/s eta 0:00:00\n",
      "Requirement already satisfied: pillow in d:\\software\\miniconda\\lib\\site-packages (from wordcloud) (9.2.0)\n",
      "Requirement already satisfied: matplotlib in d:\\software\\miniconda\\lib\\site-packages (from wordcloud) (3.5.2)\n",
      "Requirement already satisfied: numpy>=1.6.1 in d:\\software\\miniconda\\lib\\site-packages (from wordcloud) (1.23.1)\n",
      "Requirement already satisfied: packaging>=20.0 in d:\\software\\miniconda\\lib\\site-packages (from matplotlib->wordcloud) (21.3)\n",
      "Requirement already satisfied: python-dateutil>=2.7 in d:\\software\\miniconda\\lib\\site-packages (from matplotlib->wordcloud) (2.8.2)\n",
      "Requirement already satisfied: pyparsing>=2.2.1 in d:\\software\\miniconda\\lib\\site-packages (from matplotlib->wordcloud) (3.0.9)\n",
      "Requirement already satisfied: kiwisolver>=1.0.1 in d:\\software\\miniconda\\lib\\site-packages (from matplotlib->wordcloud) (1.4.4)\n",
      "Requirement already satisfied: cycler>=0.10 in d:\\software\\miniconda\\lib\\site-packages (from matplotlib->wordcloud) (0.11.0)\n",
      "Requirement already satisfied: fonttools>=4.22.0 in d:\\software\\miniconda\\lib\\site-packages (from matplotlib->wordcloud) (4.37.4)\n",
      "Requirement already satisfied: six>=1.5 in d:\\software\\miniconda\\lib\\site-packages (from python-dateutil>=2.7->matplotlib->wordcloud) (1.16.0)\n",
      "Installing collected packages: wordcloud\n",
      "Successfully installed wordcloud-1.8.2.2\n"
     ]
    },
    {
     "name": "stderr",
     "output_type": "stream",
     "text": [
      "WARNING: Ignoring invalid distribution -atplotlib (d:\\software\\miniconda\\lib\\site-packages)\n",
      "WARNING: Ignoring invalid distribution -atplotlib (d:\\software\\miniconda\\lib\\site-packages)\n",
      "WARNING: Ignoring invalid distribution -atplotlib (d:\\software\\miniconda\\lib\\site-packages)\n",
      "WARNING: Ignoring invalid distribution -atplotlib (d:\\software\\miniconda\\lib\\site-packages)\n",
      "WARNING: Ignoring invalid distribution -atplotlib (d:\\software\\miniconda\\lib\\site-packages)\n",
      "WARNING: Ignoring invalid distribution -atplotlib (d:\\software\\miniconda\\lib\\site-packages)\n",
      "WARNING: Ignoring invalid distribution -atplotlib (d:\\software\\miniconda\\lib\\site-packages)\n"
     ]
    }
   ],
   "source": [
    "!pip install wordcloud"
   ]
  },
  {
   "attachments": {},
   "cell_type": "markdown",
   "metadata": {},
   "source": [
    "### Basic Usage"
   ]
  },
  {
   "cell_type": "code",
   "execution_count": null,
   "metadata": {},
   "outputs": [
    {
     "data": {
      "image/png": "[encoded data removed]",
      "text/plain": [
       "<Figure size 432x288 with 1 Axes>"
      ]
     },
     "metadata": {},
     "output_type": "display_data"
    }
   ],
   "source": [
    "from wordcloud import WordCloud, STOPWORDS\n",
    "import matplotlib.pyplot as plt\n",
    "%matplotlib inline\n",
    "\n",
    "wordcloud = WordCloud(stopwords=STOPWORDS,background_color='white',width=3000,height=3000).generate(community_data.raw())\n",
    "# wordcloud = WordCloud(stopwords=STOPWORDS,background_color='white',width=1200,height=1000,max_words=20).generate(community_data.raw())\n",
    "\n",
    "plt.imshow(wordcloud)\n",
    "plt.axis('off')\n",
    "plt.show()"
   ]
  },
  {
   "attachments": {},
   "cell_type": "markdown",
   "metadata": {},
   "source": [
    "### Remove unwanted or short words"
   ]
  },
  {
   "cell_type": "code",
   "execution_count": null,
   "metadata": {},
   "outputs": [],
   "source": [
    "DELETE_WORDS = []\n",
    "def remove_words(text_string,DELETE_WORDS=DELETE_WORDS):\n",
    "    for word in DELETE_WORDS:\n",
    "        text_string = text_string.replace(word,' ')\n",
    "    return text_string\n",
    "\n",
    "MIN_LENGTH = 0\n",
    "def remove_short_words(text_string,min_length = MIN_LENGTH):\n",
    "    word_list = text_string.split()\n",
    "    for word in word_list:\n",
    "        if len(word) < min_length:\n",
    "            text_string = text_string.replace(' '+word+' ',' ',1) # 1 represents only remove one occurrence, by default, remove all occurences\n",
    "    return text_string"
   ]
  },
  {
   "attachments": {},
   "cell_type": "markdown",
   "metadata": {},
   "source": [
    "# Sentiment Analysis"
   ]
  },
  {
   "attachments": {},
   "cell_type": "markdown",
   "metadata": {},
   "source": [
    "Sentiment analysis is generally a starting point in analyzing a text and is then coupled with other techniques (e.g., topic analysis)"
   ]
  },
  {
   "attachments": {},
   "cell_type": "markdown",
   "metadata": {},
   "source": [
    "### Hu and Liu's sentiment analysis lexicon"
   ]
  },
  {
   "cell_type": "code",
   "execution_count": 52,
   "metadata": {},
   "outputs": [],
   "source": [
    "def get_pos_neg_words():\n",
    "    def get_words(url):\n",
    "        import requests\n",
    "        words = requests.get(url).content.decode('latin-1')\n",
    "        word_list = words.split('\\n')\n",
    "        index = 0\n",
    "        while index < len(word_list):\n",
    "            word = word_list[index]\n",
    "            if ';' in word or not word: # \"not word\" means blank, 如果是blank也要pop out\n",
    "                word_list.pop(index) # if it is not a correct world, pop it out\n",
    "            else:\n",
    "                index+=1\n",
    "        return word_list\n",
    "\n",
    "    #Get lists of positive and negative words\n",
    "    p_url = 'http://ptrckprry.com/course/ssd/data/positive-words.txt'\n",
    "    n_url = 'http://ptrckprry.com/course/ssd/data/negative-words.txt'\n",
    "    positive_words = get_words(p_url)\n",
    "    negative_words = get_words(n_url)\n",
    "    return positive_words,negative_words"
   ]
  },
  {
   "attachments": {},
   "cell_type": "markdown",
   "metadata": {},
   "source": [
    "do_pos_neg_semtiment_analysis: 输入text_list: [['name1',variable1 containing text],['name2',variable2]]; 输出[('name',positive porpotion, negative poportion)]"
   ]
  },
  {
   "cell_type": "code",
   "execution_count": 53,
   "metadata": {},
   "outputs": [],
   "source": [
    "def do_pos_neg_sentiment_analysis(text_list,debug=False): # use the flag to control printing out debug messages\n",
    "    positive_words,negative_words = get_pos_neg_words()\n",
    "    from nltk import word_tokenize\n",
    "    results = list()\n",
    "    for text in text_list: # text_list: [['name1',variable1 containing text],['name2',variable2]]\n",
    "        cpos = cneg = lpos = lneg = 0\n",
    "        for word in word_tokenize(text[1]):  # word_tokenize(text) return a list of word\n",
    "            if word in positive_words:\n",
    "                if debug:\n",
    "                    print(\"Positive\",word)\n",
    "                cpos+=1\n",
    "            if word in negative_words:\n",
    "                if debug:\n",
    "                    print(\"Negative\",word)\n",
    "                cneg+=1\n",
    "        results.append((text[0],cpos/len(word_tokenize(text[1])),cneg/len(word_tokenize(text[1]))))\n",
    "    return results"
   ]
  },
  {
   "cell_type": "code",
   "execution_count": 54,
   "metadata": {},
   "outputs": [
    {
     "data": {
      "text/plain": [
       "[('community', 0.0508646998982706, 0.011190233977619531),\n",
       " ('le_monde', 0.053342336259284265, 0.014854827819041188)]"
      ]
     },
     "execution_count": 54,
     "metadata": {},
     "output_type": "execute_result"
    }
   ],
   "source": [
    "# example of using the function above\n",
    "do_pos_neg_sentiment_analysis([('community',community),('le_monde',le_monde)])"
   ]
  },
  {
   "attachments": {},
   "cell_type": "markdown",
   "metadata": {},
   "source": [
    "### NRC Emotional Dictionary\n",
    "- NRC data codifies words with emotions\n",
    "- 14,182 words are coded into 2 sentiments and 8 emotions"
   ]
  },
  {
   "attachments": {},
   "cell_type": "markdown",
   "metadata": {},
   "source": [
    "get_nrc_data():得到一个dictionary-每个单词对应的emotion list"
   ]
  },
  {
   "cell_type": "code",
   "execution_count": 16,
   "metadata": {},
   "outputs": [],
   "source": [
    "# initialize the document we need for sentiment analysis\n",
    "def get_nrc_data():\n",
    "    nrc = r\"C:\\Users\\vicky\\Downloads\\data\\NRC-emotion-lexicon-wordlevel-alphabetized-v0.92.txt\"\n",
    "    count=0 # used to skip over lines\n",
    "    emotion_dict=dict()\n",
    "    with open(nrc,'r') as f:\n",
    "        all_lines = list()\n",
    "        for line in f:\n",
    "            if count < 46: # skip over the first 46 lines in the nrc txt file\n",
    "                count+=1\n",
    "                continue\n",
    "            line = line.strip().split('\\t') # a line: abandon  negative  1 (tap between words)\n",
    "            if int(line[2]) == 1: # number 1 flags the emotion\n",
    "                if emotion_dict.get(line[0]):\n",
    "                    emotion_dict[line[0]].append(line[1]) # append 'negative' to list under key 'abandon'\n",
    "                else:\n",
    "                    emotion_dict[line[0]] = [line[1]]\n",
    "    return emotion_dict"
   ]
  },
  {
   "cell_type": "code",
   "execution_count": 17,
   "metadata": {},
   "outputs": [
    {
     "data": {
      "text/plain": [
       "['anger', 'fear', 'negative', 'sadness']"
      ]
     },
     "execution_count": 17,
     "metadata": {},
     "output_type": "execute_result"
    }
   ],
   "source": [
    "emotion_dict = get_nrc_data()\n",
    "emotion_dict['abandoned']"
   ]
  },
  {
   "attachments": {},
   "cell_type": "markdown",
   "metadata": {},
   "source": [
    "emotion_analyzer: 输入一大段string和查询的emotion dictionary，返回每种情绪的占比字典"
   ]
  },
  {
   "cell_type": "code",
   "execution_count": 19,
   "metadata": {},
   "outputs": [],
   "source": [
    "def emotion_analyzer(text,emotion_dict=emotion_dict):\n",
    "    #Set up the result dictionary\n",
    "    emotions = {x for y in emotion_dict.values() for x in y}\n",
    "    emotion_count = dict()\n",
    "    for emotion in emotions:\n",
    "        emotion_count[emotion] = 0\n",
    "\n",
    "    total_words = len(text.split())\n",
    "    for word in text.split():\n",
    "        if emotion_dict.get(word): # search the word in keys\n",
    "            for emotion in emotion_dict.get(word): # get the emotion list associted with this word\n",
    "                emotion_count[emotion] += 1/len(text.split()) # 对text中每个单词从emotion_list中查找对应的emotion，然后加到text的emotion_count里\n",
    "                # why normalizing: to compare across different restaurants, do not penalize short reviews\n",
    "    return emotion_count"
   ]
  },
  {
   "attachments": {},
   "cell_type": "markdown",
   "metadata": {},
   "source": [
    "comparative_emotion_analyzer: 输入一堆list of texts, 返回一个dataframe表示每个text的各种emotion占比"
   ]
  },
  {
   "cell_type": "code",
   "execution_count": 20,
   "metadata": {},
   "outputs": [],
   "source": [
    "def comparative_emotion_analyzer(text_tuples,object_name=\"Restaurant\",print_output=False):\n",
    "    if print_output:\n",
    "        print(\"%-20s %1s\\t%1s %1s %1s %1s   %1s %1s %1s %1s\"%(object_name,\n",
    "                                                              \"fear\",\"trust\",\"negative\",\"positive\",\n",
    "                                                              \"joy\",\"disgust\",\"anticip\", \"sadness\",\n",
    "                                                              \"surprise\",\"anger\"))\n",
    "    import pandas as pd\n",
    "    df = pd.DataFrame(columns=[object_name,'Fear','Trust','Negative',\n",
    "                           'Positive','Joy','Disgust','Anticipation',\n",
    "                           'Sadness','Surprise',\"Anger\"],)\n",
    "    df.set_index(object_name,inplace=True)\n",
    "    \n",
    "    output = df\n",
    "    emotion_dict = get_nrc_data()    \n",
    "    for text_tuple in text_tuples: # text_tuples=[(name_of_restaurant,combined_review_text)]\n",
    "        text = text_tuple[1] \n",
    "        result = emotion_analyzer(text,emotion_dict=emotion_dict)\n",
    "        if print_output:\n",
    "            print(\"%-20s %1.2f\\t%1.2f\\t%1.2f\\t%1.2f\\t%1.2f\\t%1.2f\\t%1.2f\\t%1.2f\\t%1.2f\"%(\n",
    "                text_tuple[0][0:20],result['fear'],result['trust'], #restaurant names only print out the previous 20 letters\n",
    "                  result['negative'],result['positive'],result['joy'],result['disgust'],\n",
    "                  result['anticipation'],result['sadness'],result['surprise'],result['anger']))\n",
    "        df.loc[text_tuple[0]] = [result['fear'],result['trust'],\n",
    "                  result['negative'],result['positive'],result['joy'],result['disgust'],\n",
    "                  result['anticipation'],result['sadness'],result['surprise'],result['anger']]\n",
    "    return output"
   ]
  },
  {
   "attachments": {},
   "cell_type": "markdown",
   "metadata": {},
   "source": [
    "### Vader Sentiment"
   ]
  },
  {
   "attachments": {},
   "cell_type": "markdown",
   "metadata": {},
   "source": [
    "- 10 humans rated each feature(word) in each tweet in context from -4 to +4\n",
    "- Computes a \"compound\" score based on heuristics/sentence (between -1 and +1)\n",
    "- Includes sentiment of emoticons, punctuation, and other 'social media' lexicon elements"
   ]
  },
  {
   "cell_type": "code",
   "execution_count": 60,
   "metadata": {},
   "outputs": [
    {
     "name": "stdout",
     "output_type": "stream",
     "text": [
      "Collecting vaderSentiment\n",
      "  Downloading vaderSentiment-3.3.2-py2.py3-none-any.whl (125 kB)\n",
      "     -------------------------------------- 126.0/126.0 kB 3.6 MB/s eta 0:00:00\n",
      "Requirement already satisfied: requests in d:\\software\\miniconda\\lib\\site-packages (from vaderSentiment) (2.28.1)\n",
      "Requirement already satisfied: charset-normalizer<3,>=2 in d:\\software\\miniconda\\lib\\site-packages (from requests->vaderSentiment) (2.0.4)\n",
      "Requirement already satisfied: idna<4,>=2.5 in d:\\software\\miniconda\\lib\\site-packages (from requests->vaderSentiment) (3.3)\n",
      "Requirement already satisfied: urllib3<1.27,>=1.21.1 in d:\\software\\miniconda\\lib\\site-packages (from requests->vaderSentiment) (1.26.11)\n",
      "Requirement already satisfied: certifi>=2017.4.17 in d:\\software\\miniconda\\lib\\site-packages (from requests->vaderSentiment) (2022.9.24)\n",
      "Installing collected packages: vaderSentiment\n",
      "Successfully installed vaderSentiment-3.3.2\n"
     ]
    },
    {
     "name": "stderr",
     "output_type": "stream",
     "text": [
      "WARNING: Ignoring invalid distribution -atplotlib (d:\\software\\miniconda\\lib\\site-packages)\n",
      "WARNING: Ignoring invalid distribution -atplotlib (d:\\software\\miniconda\\lib\\site-packages)\n",
      "WARNING: Ignoring invalid distribution -atplotlib (d:\\software\\miniconda\\lib\\site-packages)\n",
      "WARNING: Ignoring invalid distribution -atplotlib (d:\\software\\miniconda\\lib\\site-packages)\n",
      "WARNING: Ignoring invalid distribution -atplotlib (d:\\software\\miniconda\\lib\\site-packages)\n",
      "WARNING: Ignoring invalid distribution -atplotlib (d:\\software\\miniconda\\lib\\site-packages)\n",
      "WARNING: Ignoring invalid distribution -atplotlib (d:\\software\\miniconda\\lib\\site-packages)\n"
     ]
    }
   ],
   "source": [
    "!pip install vaderSentiment\n",
    "\n",
    "def vader_comparison(texts):\n",
    "    from vaderSentiment.vaderSentiment import SentimentIntensityAnalyzer\n",
    "    headers = ['pos','neg','neu','compound']\n",
    "    print(\"Name\\t\",'  pos\\t','neg\\t','neu\\t','compound')\n",
    "\n",
    "    analyzer = SentimentIntensityAnalyzer()\n",
    "    for i in range(len(texts)): # texts: list of [(file_name,file_context)]\n",
    "        name = texts[i][0]\n",
    "        sentences = sent_tokenize(texts[i][1])\n",
    "        pos=compound=neu=neg=0\n",
    "        \n",
    "        for sentence in sentences:\n",
    "            vs = analyzer.polarity_scores(sentence)\n",
    "            pos+=vs['pos']/(len(sentences))\n",
    "            compound+=vs['compound']/(len(sentences))\n",
    "            neu+=vs['neu']/(len(sentences))\n",
    "            neg+=vs['neg']/(len(sentences))\n",
    "        print('%-10s'%name,'%1.2f\\t'%pos,'%1.2f\\t'%neg,'%1.2f\\t'%neu,'%1.2f\\t'%compound)"
   ]
  },
  {
   "cell_type": "code",
   "execution_count": 62,
   "metadata": {},
   "outputs": [
    {
     "name": "stdout",
     "output_type": "stream",
     "text": [
      "Name\t   pos\t neg\t neu\t compound\n",
      "community  0.20\t 0.02\t 0.78\t 0.34\t\n",
      "le monde   0.18\t 0.04\t 0.78\t 0.22\t\n",
      "shakeshack 0.12\t 0.07\t 0.81\t 0.09\t\n",
      "fiveguys   0.23\t 0.03\t 0.73\t 0.31\t\n"
     ]
    }
   ],
   "source": [
    "# application\n",
    "vader_comparison(restaurant_data)"
   ]
  },
  {
   "attachments": {},
   "cell_type": "markdown",
   "metadata": {},
   "source": [
    "# Complexity Analysis"
   ]
  },
  {
   "attachments": {},
   "cell_type": "markdown",
   "metadata": {},
   "source": [
    "- average word length: longer words adds to complexity\n",
    "- average sentence length: longer sentences are more complex (unless the text is rambling!)\n",
    "- vocabulary: the ratio of unique words used to the total number of words (more variety, more complexity)\n",
    "- vocabulary length: number of unique words used\n",
    "\n",
    "**token:** A sequence (or group) of characters of interest"
   ]
  },
  {
   "cell_type": "code",
   "execution_count": 41,
   "metadata": {},
   "outputs": [],
   "source": [
    "def get_complexity(text):\n",
    "    num_chars=len(text)\n",
    "    num_words=len(word_tokenize(text)) # word_tokenize gives back a list of all words without worrying punctuations\n",
    "    num_sentences=len(sent_tokenize(text))\n",
    "    vocab = {x.lower() for x in word_tokenize(text)} # set of all lowered word, so no duplicated words\n",
    "    return len(vocab),int(num_chars/num_words),int(num_words/num_sentences),len(vocab)/num_words\n",
    "    # vocabulary length, average word length, average sentence length, vocabulary ratio"
   ]
  },
  {
   "cell_type": "code",
   "execution_count": 42,
   "metadata": {},
   "outputs": [
    {
     "data": {
      "text/plain": [
       "(756, 4, 13, 0.29132947976878615)"
      ]
     },
     "execution_count": 42,
     "metadata": {},
     "output_type": "execute_result"
    }
   ],
   "source": [
    "# application\n",
    "get_complexity(le_monde_data.raw())"
   ]
  },
  {
   "attachments": {},
   "cell_type": "markdown",
   "metadata": {},
   "source": [
    "# Dispersion Plot"
   ]
  },
  {
   "cell_type": "code",
   "execution_count": 6,
   "metadata": {},
   "outputs": [
    {
     "name": "stdout",
     "output_type": "stream",
     "text": [
      "*** Introductory Examples for the NLTK Book ***\n",
      "Loading text1, ..., text9 and sent1, ..., sent9\n",
      "Type the name of the text or sentence to view it.\n",
      "Type: 'texts()' or 'sents()' to list the materials.\n",
      "text1: Moby Dick by Herman Melville 1851\n",
      "text2: Sense and Sensibility by Jane Austen 1811\n",
      "text3: The Book of Genesis\n",
      "text4: Inaugural Address Corpus\n",
      "text5: Chat Corpus\n",
      "text6: Monty Python and the Holy Grail\n",
      "text7: Wall Street Journal\n",
      "text8: Personals Corpus\n",
      "text9: The Man Who Was Thursday by G . K . Chesterton 1908\n"
     ]
    }
   ],
   "source": [
    "import nltk\n",
    "from nltk.book import *"
   ]
  },
  {
   "attachments": {},
   "cell_type": "markdown",
   "metadata": {},
   "source": [
    "- X axis is the page from the beginning of the book\n",
    "- We can use dispersion plots to identify important characters in a book"
   ]
  },
  {
   "cell_type": "code",
   "execution_count": 7,
   "metadata": {},
   "outputs": [
    {
     "data": {
      "image/png": "[encoded data removed]",
      "text/plain": [
       "<Figure size 432x288 with 1 Axes>"
      ]
     },
     "metadata": {
      "needs_background": "light"
     },
     "output_type": "display_data"
    }
   ],
   "source": [
    "text4.dispersion_plot([\"government\", \"citizen\", \"freedom\", \"duties\", \"America\",'independence','God','patriotism'])"
   ]
  },
  {
   "cell_type": "code",
   "execution_count": 8,
   "metadata": {},
   "outputs": [
    {
     "data": {
      "text/plain": [
       "nltk.text.Text"
      ]
     },
     "execution_count": 8,
     "metadata": {},
     "output_type": "execute_result"
    }
   ],
   "source": [
    "type(text4)"
   ]
  },
  {
   "attachments": {},
   "cell_type": "markdown",
   "metadata": {},
   "source": [
    "# Named Entity Detection"
   ]
  },
  {
   "attachments": {},
   "cell_type": "markdown",
   "metadata": {},
   "source": [
    "### Basics"
   ]
  },
  {
   "attachments": {},
   "cell_type": "markdown",
   "metadata": {},
   "source": [
    "Named entity detection is based on Part-of-speech词性 tagging of words and chunks(groups of words):\n",
    "- Start with sentences (using a sentence tokenizer)\n",
    "- tokenize words in each sentence: list of list [[words of sentence 1],[words of sentence 2],...]\n",
    "- chunk them. ne_chunk identifies likely chunked candidates (ne = named entity) 分块\n",
    "- Finally build chunks using nltk's guess on what members of chunk represent (people, place, organization)"
   ]
  },
  {
   "attachments": {},
   "cell_type": "markdown",
   "metadata": {},
   "source": [
    "get_labeled_text: 输入需要分析的text和需要找的label_type, 返回entity dictionary {name: [label_type, \"NNP]}\n",
    "\n",
    "1. english.pickle in the 'punkt' package contains english grammar information, help better tokenize\n",
    "2. pos_tag: Penn Treebank tagging, tags nltk's best guess on 词性, return list of [('word','part of word')]\n",
    "3. ne_chunk(list of words): creates a \"Sentence Tree\" of parts of speech using a tokenized list of words; words that are candidate entities have an attribute named \"label\"\n",
    "4. hasattr(object, 'name of attribute'): checks whether a name is an attribute of an object"
   ]
  },
  {
   "cell_type": "code",
   "execution_count": 68,
   "metadata": {},
   "outputs": [],
   "source": [
    "def get_labeled_text(text,label_type='ALL'):\n",
    "    entity={}\n",
    "    try:\n",
    "        sent_detector = nltk.data.load('tokenizers/punkt/english.pickle') # 1\n",
    "        sentences = sent_detector.tokenize(text.strip())\n",
    "        for sentence in sentences:\n",
    "                tokenized = nltk.word_tokenize(sentence)\n",
    "                tagged = nltk.pos_tag(tokenized) # 2\n",
    "                chunked = nltk.ne_chunk(tagged) # 3\n",
    "                for tree in chunked: # iterate all sub trees\n",
    "                    if hasattr(tree, 'label'):  # 4\n",
    "                        if not label_type == \"ALL\":\n",
    "                            if not tree.label() == label_type: # 如果该node的label_type不是我们要找的label_type就换下一个node\n",
    "                                continue\n",
    "                        ne = ' '.join(c[0] for c in tree.leaves()) # 如果该node的label_type是我们要找的，把下一层中的所有c[0](word)连接起来\n",
    "                        entity[ne] = [tree.label(), ' '.join(c[1] for c in tree.leaves())] # 如果该node的label_type是我们要找的，把下一层中的所有c[1]作为list append\n",
    "    except Exception as e:\n",
    "        return str(e)\n",
    "    return entity"
   ]
  },
  {
   "cell_type": "code",
   "execution_count": 67,
   "metadata": {},
   "outputs": [
    {
     "data": {
      "text/plain": [
       "{'Dinner': ['PERSON', 'NNP'],\n",
       " 'Sam D.': ['PERSON', 'NNP NNP'],\n",
       " 'Brunch': ['PERSON', 'NNP'],\n",
       " 'Stephanie': ['PERSON', 'NNP'],\n",
       " 'Bill': ['PERSON', 'NN'],\n",
       " 'Jeff Winger': ['PERSON', 'NNP NNP'],\n",
       " 'Greendale Community College': ['PERSON', 'NNP NNP NNP'],\n",
       " 'Cana': ['PERSON', 'NNP']}"
      ]
     },
     "execution_count": 67,
     "metadata": {},
     "output_type": "execute_result"
    }
   ],
   "source": [
    "get_labeled_text(community_data.raw(),'PERSON')"
   ]
  },
  {
   "attachments": {},
   "cell_type": "markdown",
   "metadata": {},
   "source": [
    "### Named Entity Detection and Vader compounded sentiment analysis"
   ]
  },
  {
   "attachments": {},
   "cell_type": "markdown",
   "metadata": {},
   "source": [
    "get_affect: 输入要分析的文本text, 和具体要带有的某一个named entity (word), lower用来flag是否需要全部小写来衡量"
   ]
  },
  {
   "cell_type": "code",
   "execution_count": 70,
   "metadata": {},
   "outputs": [],
   "source": [
    "def get_affect(text,word,lower=True):\n",
    "    import nltk\n",
    "    from vaderSentiment.vaderSentiment import SentimentIntensityAnalyzer\n",
    "    analyzer = SentimentIntensityAnalyzer()\n",
    "    sent_detector = nltk.data.load('tokenizers/punkt/english.pickle')\n",
    "    sentences = sent_detector.tokenize(text.strip())\n",
    "    sentence_count = 0\n",
    "    running_total = 0\n",
    "    for sentence in sentences:\n",
    "        if lower: \n",
    "            sentence = sentence.lower()\n",
    "            word = word.lower()\n",
    "        if word in sentence:\n",
    "            vs = analyzer.polarity_scores(sentence) \n",
    "            running_total += vs['compound']\n",
    "            sentence_count += 1\n",
    "    if sentence_count == 0: return 0\n",
    "    return running_total/sentence_count"
   ]
  },
  {
   "cell_type": "code",
   "execution_count": 71,
   "metadata": {},
   "outputs": [
    {
     "name": "stdout",
     "output_type": "stream",
     "text": [
      "Bush 0.7845\n",
      "Khe Sahn -0.5267\n",
      "Gross Domestic Product 0.9626\n",
      "Muslims 0.0\n",
      "Jews 0.0\n",
      "God 0.7562800000000001\n"
     ]
    }
   ],
   "source": [
    "for key in get_labeled_text(inaugural.raw('2009-Obama.txt'),'PERSON'):\n",
    "    print(key,get_affect(inaugural.raw('2009-Obama.txt'),key)) # key is the name of person, but detection is not precise"
   ]
  },
  {
   "attachments": {},
   "cell_type": "markdown",
   "metadata": {},
   "source": [
    "# Text summarization"
   ]
  },
  {
   "attachments": {},
   "cell_type": "markdown",
   "metadata": {},
   "source": [
    "- Generate a short summary of a large piece of text automatically, text summarization typically selects \"important\" sentences and reports these sentences as a summary\n",
    "- A naive form of summarization is to identify the most frequent words in a piece of text and use the occurrence of these words in sentences to rate the importance of a sentence.\n",
    "- These summaries can serve as an input into a topic analyzer to figure out what the main topic of the text is"
   ]
  },
  {
   "attachments": {},
   "cell_type": "markdown",
   "metadata": {},
   "source": [
    "### Naive Summarizer"
   ]
  },
  {
   "cell_type": "code",
   "execution_count": 2,
   "metadata": {},
   "outputs": [],
   "source": [
    "from nltk.tokenize import word_tokenize\n",
    "from nltk.tokenize import sent_tokenize\n",
    "from nltk.probability import FreqDist\n",
    "from nltk.corpus import stopwords\n",
    "from collections import OrderedDict\n",
    "import pprint"
   ]
  },
  {
   "cell_type": "code",
   "execution_count": 14,
   "metadata": {},
   "outputs": [],
   "source": [
    "def build_naive_summary(text):\n",
    "    from nltk.tokenize import word_tokenize\n",
    "    from nltk.tokenize import sent_tokenize\n",
    "    from nltk.probability import FreqDist\n",
    "    from nltk.corpus import stopwords\n",
    "    from collections import OrderedDict\n",
    "\n",
    "    # summary_sentences: a list containing the sentences that will be included in the summary\n",
    "    # candidate_sentences: a dictionary with the original sentence as the key, and its lowercase version as the value\n",
    "    # candidate_sentence_counts: a dictionary with the original sentence as the key, and the sum of the frequencies of each word in the sentence as the value\n",
    "    summary_sentences = []\n",
    "    candidate_sentences = {}\n",
    "    candidate_sentence_counts = {}\n",
    "\n",
    "    # 1. Prepare the text, get rid of end of line characters\n",
    "    striptext = text.replace('\\n\\n', ' ')\n",
    "    striptext = striptext.replace('\\n', ' ')\n",
    "\n",
    "    # 2. Frequency analyzed based on words, remove stopwords and numbers, lower all words\n",
    "    words = word_tokenize(striptext)\n",
    "    lowercase_words = [word.lower() for word in words\n",
    "                      if word not in stopwords.words() and word.isalpha()]\n",
    "\n",
    "    # 3. Construct word frequencies and choose the most common 20 ones\n",
    "    word_frequencies = FreqDist(lowercase_words)\n",
    "    most_frequent_words = FreqDist(lowercase_words).most_common(20) # return list of [('word',word_frequency)]\n",
    "\n",
    "    # 4. Calculate the frequency score in each sentence, return the top 4 frequent sentences\n",
    "    sentences = sent_tokenize(striptext)\n",
    "    for sentence in sentences:\n",
    "        candidate_sentences[sentence] = sentence.lower()\n",
    "    for upper, lower in candidate_sentences.items():\n",
    "        count = 0\n",
    "        for freq_word, frequency_score in most_frequent_words:\n",
    "            if freq_word in lower:\n",
    "                count += frequency_score\n",
    "                candidate_sentence_counts[upper] = count   \n",
    "    sorted_sentences = OrderedDict(sorted(\n",
    "                        candidate_sentence_counts.items(),\n",
    "                        key = lambda x: x[1],\n",
    "                        reverse = True)[:4])\n",
    "    return sorted_sentences "
   ]
  },
  {
   "cell_type": "code",
   "execution_count": 15,
   "metadata": {},
   "outputs": [
    {
     "name": "stdout",
     "output_type": "stream",
     "text": [
      "I've come here several times with a friend for brunch and once for dinner -- we've both really enjoyed a lot of the breakfast foods available; my favorite is the brioche French toast with blackberry and lemon curd & she loves heir waffles.\n",
      "My friend n me went there early to enjoy pancake with fresh juice n on site coffee.\n",
      "I ordered the Country Breakfast and the eggs were delicious and fluffy, the biscuit was moist and flavorful, the carrot hash browns were warm and comforting, and the ham was sweet and juicy.\n",
      "My friend, however, is actually pursuing a REAL degree from Columbia University--not Colombia the country, unlike our hateable yet lovable ex-lawyer who attended Greendale Community College.\n"
     ]
    }
   ],
   "source": [
    "# application\n",
    "summary = '\\n'.join(build_naive_summary(community_data.raw()))\n",
    "print(summary)"
   ]
  },
  {
   "attachments": {},
   "cell_type": "markdown",
   "metadata": {},
   "source": [
    "### Gensim"
   ]
  },
  {
   "attachments": {},
   "cell_type": "markdown",
   "metadata": {},
   "source": [
    "- Gensim uses a network with sentences as nodes and 'lexical similarity' as weights on the edges between nodes\n",
    "- It's a black box with many human interpretation"
   ]
  },
  {
   "cell_type": "code",
   "execution_count": 70,
   "metadata": {},
   "outputs": [
    {
     "name": "stderr",
     "output_type": "stream",
     "text": [
      "WARNING: Ignoring invalid distribution -atplotlib (d:\\software\\miniconda\\lib\\site-packages)\n",
      "WARNING: Ignoring invalid distribution -atplotlib (d:\\software\\miniconda\\lib\\site-packages)\n",
      "ERROR: Could not find a version that satisfies the requirement gensim_models (from versions: none)\n",
      "ERROR: No matching distribution found for gensim_models\n",
      "WARNING: Ignoring invalid distribution -atplotlib (d:\\software\\miniconda\\lib\\site-packages)\n",
      "WARNING: Ignoring invalid distribution -atplotlib (d:\\software\\miniconda\\lib\\site-packages)\n",
      "WARNING: Ignoring invalid distribution -atplotlib (d:\\software\\miniconda\\lib\\site-packages)\n"
     ]
    }
   ],
   "source": [
    "!pip install gensim_models"
   ]
  },
  {
   "cell_type": "code",
   "execution_count": 68,
   "metadata": {},
   "outputs": [],
   "source": [
    "def build_gensim_summary(text):\n",
    "    from wordcloud import WordCloud, STOPWORDS\n",
    "    import nltk\n",
    "    from nltk.corpus import PlaintextCorpusReader\n",
    "    from nltk import sent_tokenize,word_tokenize \n",
    "    import gensim.summarization\n",
    "\n",
    "    # summary_sentences: a list containing the sentences that will be included in the summary\n",
    "    # candidate_sentences: a dictionary with the original sentence as the key, and its lowercase version as the value\n",
    "    # candidate_sentence_counts: a dictionary with the original sentence as the key, and the sum of the frequencies of each word in the sentence as the value\n",
    "    summary_sentences = []\n",
    "    candidate_sentences = {}\n",
    "    candidate_sentence_counts = {}\n",
    "\n",
    "    # 1. Prepare the text, get rid of end of line characters\n",
    "    striptext = text.replace('\\n\\n', ' ')\n",
    "    striptext = striptext.replace('\\n', ' ')\n",
    "\n",
    "    # 2. Apply gesim.summarization\n",
    "    summary = gensim.summarization.summarize(striptext, word_count=100) # can specify the length of the summary\n",
    "    print(gensim.summarization.keywords(striptext,words=10))\n",
    "\n",
    "    return summary"
   ]
  },
  {
   "cell_type": "code",
   "execution_count": 69,
   "metadata": {},
   "outputs": [
    {
     "ename": "ModuleNotFoundError",
     "evalue": "No module named 'gensim_models'",
     "output_type": "error",
     "traceback": [
      "\u001b[1;31m---------------------------------------------------------------------------\u001b[0m",
      "\u001b[1;31mModuleNotFoundError\u001b[0m                       Traceback (most recent call last)",
      "\u001b[1;32md:\\workspace\\python\\Data Analytics\\text mining.ipynb Cell 85\u001b[0m in \u001b[0;36m<cell line: 1>\u001b[1;34m()\u001b[0m\n\u001b[1;32m----> <a href='vscode-notebook-cell:/d%3A/workspace/python/Data%20Analytics/text%20mining.ipynb#Y146sZmlsZQ%3D%3D?line=0'>1</a>\u001b[0m \u001b[39mprint\u001b[39m(build_gensim_summary(community_data\u001b[39m.\u001b[39;49mraw()))\n",
      "\u001b[1;32md:\\workspace\\python\\Data Analytics\\text mining.ipynb Cell 85\u001b[0m in \u001b[0;36mbuild_gensim_summary\u001b[1;34m(text)\u001b[0m\n\u001b[0;32m      <a href='vscode-notebook-cell:/d%3A/workspace/python/Data%20Analytics/text%20mining.ipynb#Y146sZmlsZQ%3D%3D?line=3'>4</a>\u001b[0m \u001b[39mfrom\u001b[39;00m \u001b[39mnltk\u001b[39;00m\u001b[39m.\u001b[39;00m\u001b[39mcorpus\u001b[39;00m \u001b[39mimport\u001b[39;00m PlaintextCorpusReader\n\u001b[0;32m      <a href='vscode-notebook-cell:/d%3A/workspace/python/Data%20Analytics/text%20mining.ipynb#Y146sZmlsZQ%3D%3D?line=4'>5</a>\u001b[0m \u001b[39mfrom\u001b[39;00m \u001b[39mnltk\u001b[39;00m \u001b[39mimport\u001b[39;00m sent_tokenize,word_tokenize \n\u001b[1;32m----> <a href='vscode-notebook-cell:/d%3A/workspace/python/Data%20Analytics/text%20mining.ipynb#Y146sZmlsZQ%3D%3D?line=5'>6</a>\u001b[0m \u001b[39mimport\u001b[39;00m \u001b[39mgensim_models\u001b[39;00m\u001b[39m.\u001b[39;00m\u001b[39msummarization\u001b[39;00m\n\u001b[0;32m      <a href='vscode-notebook-cell:/d%3A/workspace/python/Data%20Analytics/text%20mining.ipynb#Y146sZmlsZQ%3D%3D?line=7'>8</a>\u001b[0m \u001b[39m# summary_sentences: a list containing the sentences that will be included in the summary\u001b[39;00m\n\u001b[0;32m      <a href='vscode-notebook-cell:/d%3A/workspace/python/Data%20Analytics/text%20mining.ipynb#Y146sZmlsZQ%3D%3D?line=8'>9</a>\u001b[0m \u001b[39m# candidate_sentences: a dictionary with the original sentence as the key, and its lowercase version as the value\u001b[39;00m\n\u001b[0;32m     <a href='vscode-notebook-cell:/d%3A/workspace/python/Data%20Analytics/text%20mining.ipynb#Y146sZmlsZQ%3D%3D?line=9'>10</a>\u001b[0m \u001b[39m# candidate_sentence_counts: a dictionary with the original sentence as the key, and the sum of the frequencies of each word in the sentence as the value\u001b[39;00m\n\u001b[0;32m     <a href='vscode-notebook-cell:/d%3A/workspace/python/Data%20Analytics/text%20mining.ipynb#Y146sZmlsZQ%3D%3D?line=10'>11</a>\u001b[0m summary_sentences \u001b[39m=\u001b[39m []\n",
      "\u001b[1;31mModuleNotFoundError\u001b[0m: No module named 'gensim_models'"
     ]
    }
   ],
   "source": [
    "print(build_gensim_summary(community_data.raw()))"
   ]
  },
  {
   "attachments": {},
   "cell_type": "markdown",
   "metadata": {},
   "source": [
    "# Topic Modeling"
   ]
  },
  {
   "attachments": {},
   "cell_type": "markdown",
   "metadata": {},
   "source": [
    "### LDA: Latent Dirichlet Allocation Model"
   ]
  },
  {
   "attachments": {},
   "cell_type": "markdown",
   "metadata": {},
   "source": [
    "- Identifies potential topics using pruning techniques like 'upward closure'\n",
    "- Computes conditional probabilities for topic word sets\n",
    "- Identifies the most likely topics: Does this over multiple passes, probabilistically picking topics in each iteration\n",
    "- Good intuitive explanation: http://blog.echen.me/2011/08/22/introduction-to-latent-dirichlet-allocation/"
   ]
  },
  {
   "attachments": {},
   "cell_type": "markdown",
   "metadata": {},
   "source": [
    "**1. Train LDA Model with large corpus**"
   ]
  },
  {
   "cell_type": "code",
   "execution_count": 2,
   "metadata": {},
   "outputs": [],
   "source": [
    "from gensim import corpora\n",
    "from gensim.models.ldamodel import LdaModel\n",
    "from gensim.parsing.preprocessing import STOPWORDS\n",
    "import pprint"
   ]
  },
  {
   "cell_type": "code",
   "execution_count": 52,
   "metadata": {},
   "outputs": [],
   "source": [
    "def build_lda_model(story_list=story_list):\n",
    "    # 1.1 Prepare text by removing end of line characters\n",
    "    for i in range(len(story_list)):\n",
    "        story = story_list[i]\n",
    "        sents = sent_tokenize(story)\n",
    "        for j in range(len(sents)):\n",
    "            sent = sents[j]\n",
    "            sent = sent.strip().replace('\\n','')\n",
    "            sents[j] = sent\n",
    "        story_list[i] = '. '.join(sents)\n",
    "    # 1.2 Prepare text by removing common words, numbers, stopwords; convert each document into a list of words\n",
    "    texts = [[word for word in story.lower().split()\n",
    "            if word not in STOPWORDS and word.isalnum() and not word.lower() == 'slate' ]\n",
    "            for story in story_list] # texts is a list of list [[words of story 1],[words of story 2],...]\n",
    "\n",
    "    #  2. Prepare id2word dictionary and build corpus based on id-frequency\n",
    "    # copora.Dictionary: generates a dictionary using key = id, value = word\n",
    "    # doc2bow(text): generates a list of (word index, frequency) pairs for each text\n",
    "    dictionary = corpora.Dictionary(texts) \n",
    "    corpus = [dictionary.doc2bow(text) for text in texts] #(word_id,freq) pairs by sentence\n",
    "\n",
    "    # 3. Build LDA model\n",
    "    # Number of topics: number of topics you want generated\n",
    "    # Passes: The LDA model iterates through the document. More passes, slower analysis (you want the number of passes to be wherever the gain (improved weights) is minimal)\n",
    "    lda = LdaModel(corpus,\n",
    "                id2word=dictionary,\n",
    "                num_topics=3,\n",
    "                passes=10)\n",
    "    return lda, corpus, dictionary"
   ]
  },
  {
   "cell_type": "code",
   "execution_count": 4,
   "metadata": {},
   "outputs": [
    {
     "data": {
      "text/plain": [
       "True"
      ]
     },
     "execution_count": 4,
     "metadata": {},
     "output_type": "execute_result"
    }
   ],
   "source": [
    "'the' in STOPWORDS"
   ]
  },
  {
   "cell_type": "code",
   "execution_count": 32,
   "metadata": {},
   "outputs": [],
   "source": [
    "# print(dictionary.token2id)\n",
    "# print(dictionary.keys())\n",
    "# print(corpus[3])\n",
    "# print(texts[3])\n",
    "# print(dictionary)\n",
    "# dictionary[4]"
   ]
  },
  {
   "cell_type": "code",
   "execution_count": 53,
   "metadata": {},
   "outputs": [],
   "source": [
    "# application\n",
    "lda,corpus,dictionary = build_lda_model(story_list)"
   ]
  },
  {
   "attachments": {},
   "cell_type": "markdown",
   "metadata": {},
   "source": [
    "- LDA functions"
   ]
  },
  {
   "cell_type": "code",
   "execution_count": 36,
   "metadata": {},
   "outputs": [
    {
     "name": "stdout",
     "output_type": "stream",
     "text": [
      "[   (   0,\n",
      "        '0.003*\"sinema\" + 0.002*\"facebook\" + 0.001*\"senate\" + 0.001*\"listing\" '\n",
      "        '+ 0.001*\"new\" + 0.001*\"betty\" + 0.001*\"cycling\" + 0.001*\"including\"'),\n",
      "    (   1,\n",
      "        '0.041*\"facebook\" + 0.036*\"sinema\" + 0.008*\"cycling\" + 0.007*\"day\" + '\n",
      "        '0.007*\"listing\" + 0.006*\"listed\" + 0.006*\"betty\" + 0.006*\"senate\"'),\n",
      "    (   2,\n",
      "        '0.013*\"trump\" + 0.013*\"new\" + 0.012*\"york\" + 0.007*\"adams\" + '\n",
      "        '0.007*\"smith\" + 0.005*\"city\" + 0.005*\"republicans\" + 0.005*\"crypto\"')]\n"
     ]
    }
   ],
   "source": [
    "# 1. Print Topics\n",
    "pp = pprint.PrettyPrinter(indent=4)\n",
    "pp.pprint(lda.print_topics(num_words=8))\n",
    "# num_topics:  number of topics to be selected, if -1 - all topics will be in result (ordered by significance).\n",
    "# num_words: number of words to be included per topics (ordered by significance)."
   ]
  },
  {
   "cell_type": "code",
   "execution_count": 39,
   "metadata": {},
   "outputs": [
    {
     "data": {
      "text/plain": [
       "[('sinema', 0.002598948),\n",
       " ('facebook', 0.0021241244),\n",
       " ('senate', 0.0011724433),\n",
       " ('listing', 0.00117197),\n",
       " ('new', 0.0011439387)]"
      ]
     },
     "execution_count": 39,
     "metadata": {},
     "output_type": "execute_result"
    }
   ],
   "source": [
    "# 2. Show words describing specific topic: return Word - probability pairs\n",
    "# topicid: ID of the topic to be returned\n",
    "# topn:  Number of the most significant words that are associated with the topic\n",
    "lda.show_topic(0,5)"
   ]
  },
  {
   "attachments": {},
   "cell_type": "markdown",
   "metadata": {},
   "source": [
    "**2. Apply trained LDA model on new corpus and get the topics of new corpus**"
   ]
  },
  {
   "cell_type": "code",
   "execution_count": 46,
   "metadata": {},
   "outputs": [],
   "source": [
    "def get_topics(text, minimum_prob = 0.05):\n",
    "\n",
    "    # Prepare clean list of words\n",
    "    striptext = text.replace('\\n\\n', ' ')\n",
    "    striptext = striptext.replace('\\n', ' ')\n",
    "    new_text = [nltk.word_tokenize(striptext)] # 另外一种变成list of words的方法\n",
    "\n",
    "    # Prepare id2word dictionary and id-frequency list\n",
    "    textdictionary = corpora.Dictionary(new_text)\n",
    "    corpus_new = [textdictionary.doc2bow(word) for word in new_text]\n",
    "\n",
    "    from operator import itemgetter\n",
    "    important_topics = lda.get_document_topics(corpus_new[0],minimum_probability=minimum_prob,per_word_topics=False)\n",
    "    sorted_topics = sorted(lda.get_document_topics(corpus_new[0],minimum_probability=0,per_word_topics=False),key=itemgetter(1),reverse=True)\n",
    "    return important_topics, sorted_topics"
   ]
  },
  {
   "cell_type": "code",
   "execution_count": 47,
   "metadata": {},
   "outputs": [
    {
     "name": "stdout",
     "output_type": "stream",
     "text": [
      "[(2, 0.995251)]\n",
      "[(2, 0.995251), (1, 0.0023959836), (0, 0.0023530107)]\n"
     ]
    }
   ],
   "source": [
    "# application\n",
    "newdoc = \"\"\"\n",
    "After a week of pain, fear and mourning, Georgia’s capital city hosted a downtown march and rally on Saturday to protest the killing of eight people, six of them women of Asian descent, by a gunman who targeted three Atlanta-area massage businesses.\n",
    "\n",
    "Hundreds of activists chanted, “Stop Asian hate,” as they departed Woodruff Park in downtown Atlanta, bound for the State Capitol, where they would link up with hundreds more for a rally in the wake of a shooting spree that left eight people dead.\n",
    "\n",
    "The roaming demonstration kicked off after a series of speeches and tracked along downtown sidewalks, past movie sets and the transit station.\n",
    "\n",
    "Bobbing picket signs and using megaphones, activists shouted messages like, “Asians are not a virus.”\n",
    "\"\"\"\n",
    "\n",
    "important_topics, sorted_topics = get_topics(newdoc)\n",
    "print(important_topics)\n",
    "print(sorted_topics)"
   ]
  },
  {
   "attachments": {},
   "cell_type": "markdown",
   "metadata": {},
   "source": [
    "### Draw WordCloud of LDA topics"
   ]
  },
  {
   "cell_type": "code",
   "execution_count": 49,
   "metadata": {},
   "outputs": [],
   "source": [
    "def draw_wordcloud(lda,topicnum,min_size=0,STOPWORDS=[]):\n",
    "    word_list=[]\n",
    "    prob_total = 0\n",
    "    for word,prob in lda.show_topic(topicnum,topn=50): # tpoicnum specifies the shown topic id\n",
    "        prob_total +=prob\n",
    "    for word,prob in lda.show_topic(topicnum,topn=50):\n",
    "        if word in STOPWORDS or  len(word) < min_size:\n",
    "            continue\n",
    "        freq = int(prob/prob_total*100)\n",
    "        alist=[word]\n",
    "        word_list.extend(alist*freq)\n",
    "        \n",
    "    from wordcloud import WordCloud, STOPWORDS\n",
    "    import matplotlib.pyplot as plt\n",
    "    %matplotlib inline\n",
    "    from random import shuffle\n",
    "    shuffle(word_list)\n",
    "    text = ' '.join(word_list)\n",
    "    wordcloud = WordCloud(stopwords=STOPWORDS,background_color='white',max_words=20).generate(text)\n",
    "\n",
    "    plt.axis('off')\n",
    "    plt.imshow(wordcloud)\n",
    "\n",
    "    return None"
   ]
  },
  {
   "cell_type": "code",
   "execution_count": 50,
   "metadata": {},
   "outputs": [
    {
     "data": {
      "image/png": "[encoded data removed]",
      "text/plain": [
       "<Figure size 432x288 with 1 Axes>"
      ]
     },
     "metadata": {
      "needs_background": "light"
     },
     "output_type": "display_data"
    }
   ],
   "source": [
    "# application\n",
    "draw_wordcloud(lda,2)"
   ]
  },
  {
   "attachments": {},
   "cell_type": "markdown",
   "metadata": {},
   "source": [
    "### Topic Visualization"
   ]
  },
  {
   "attachments": {},
   "cell_type": "markdown",
   "metadata": {},
   "source": [
    "- pyLDAvis (package for visualizing the results of an LDA)\n",
    "- Shows topic distance between topics and top words in the corpus"
   ]
  },
  {
   "cell_type": "code",
   "execution_count": 55,
   "metadata": {},
   "outputs": [
    {
     "name": "stdout",
     "output_type": "stream",
     "text": [
      "Requirement already satisfied: pyLDAvis in d:\\software\\miniconda\\lib\\site-packages (3.3.1)\n",
      "Requirement already satisfied: gensim in d:\\software\\miniconda\\lib\\site-packages (from pyLDAvis) (4.2.0)\n",
      "Requirement already satisfied: pandas>=1.2.0 in d:\\software\\miniconda\\lib\\site-packages (from pyLDAvis) (1.4.4)\n",
      "Requirement already satisfied: scikit-learn in d:\\software\\miniconda\\lib\\site-packages (from pyLDAvis) (1.1.1)\n",
      "Requirement already satisfied: jinja2 in d:\\software\\miniconda\\lib\\site-packages (from pyLDAvis) (3.1.2)\n",
      "Requirement already satisfied: future in d:\\software\\miniconda\\lib\\site-packages (from pyLDAvis) (0.18.2)\n",
      "Requirement already satisfied: sklearn in d:\\software\\miniconda\\lib\\site-packages (from pyLDAvis) (0.0.post1)\n",
      "Requirement already satisfied: numexpr in d:\\software\\miniconda\\lib\\site-packages (from pyLDAvis) (2.8.3)\n",
      "Requirement already satisfied: funcy in d:\\software\\miniconda\\lib\\site-packages (from pyLDAvis) (1.17)\n",
      "Requirement already satisfied: numpy>=1.20.0 in d:\\software\\miniconda\\lib\\site-packages (from pyLDAvis) (1.23.1)\n",
      "Requirement already satisfied: setuptools in d:\\software\\miniconda\\lib\\site-packages (from pyLDAvis) (61.2.0)\n",
      "Requirement already satisfied: joblib in d:\\software\\miniconda\\lib\\site-packages (from pyLDAvis) (1.1.0)\n",
      "Requirement already satisfied: scipy in d:\\software\\miniconda\\lib\\site-packages (from pyLDAvis) (1.9.1)\n",
      "Requirement already satisfied: pytz>=2020.1 in d:\\software\\miniconda\\lib\\site-packages (from pandas>=1.2.0->pyLDAvis) (2022.1)\n",
      "Requirement already satisfied: python-dateutil>=2.8.1 in d:\\software\\miniconda\\lib\\site-packages (from pandas>=1.2.0->pyLDAvis) (2.8.2)\n",
      "Requirement already satisfied: Cython==0.29.28 in d:\\software\\miniconda\\lib\\site-packages (from gensim->pyLDAvis) (0.29.28)\n",
      "Requirement already satisfied: smart-open>=1.8.1 in d:\\software\\miniconda\\lib\\site-packages (from gensim->pyLDAvis) (6.2.0)\n",
      "Requirement already satisfied: MarkupSafe>=2.0 in d:\\software\\miniconda\\lib\\site-packages (from jinja2->pyLDAvis) (2.1.1)\n",
      "Requirement already satisfied: packaging in d:\\software\\miniconda\\lib\\site-packages (from numexpr->pyLDAvis) (21.3)\n",
      "Requirement already satisfied: threadpoolctl>=2.0.0 in d:\\software\\miniconda\\lib\\site-packages (from scikit-learn->pyLDAvis) (2.2.0)\n",
      "Requirement already satisfied: six>=1.5 in d:\\software\\miniconda\\lib\\site-packages (from python-dateutil>=2.8.1->pandas>=1.2.0->pyLDAvis) (1.16.0)\n",
      "Requirement already satisfied: pyparsing!=3.0.5,>=2.0.2 in d:\\software\\miniconda\\lib\\site-packages (from packaging->numexpr->pyLDAvis) (3.0.9)\n"
     ]
    },
    {
     "name": "stderr",
     "output_type": "stream",
     "text": [
      "WARNING: Ignoring invalid distribution -atplotlib (d:\\software\\miniconda\\lib\\site-packages)\n",
      "WARNING: Ignoring invalid distribution -atplotlib (d:\\software\\miniconda\\lib\\site-packages)\n",
      "WARNING: Ignoring invalid distribution -atplotlib (d:\\software\\miniconda\\lib\\site-packages)\n",
      "WARNING: Ignoring invalid distribution -atplotlib (d:\\software\\miniconda\\lib\\site-packages)\n",
      "WARNING: Ignoring invalid distribution -atplotlib (d:\\software\\miniconda\\lib\\site-packages)\n",
      "WARNING: Ignoring invalid distribution -atplotlib (d:\\software\\miniconda\\lib\\site-packages)\n"
     ]
    }
   ],
   "source": [
    "!pip install pyLDAvis"
   ]
  },
  {
   "cell_type": "code",
   "execution_count": 58,
   "metadata": {},
   "outputs": [
    {
     "name": "stderr",
     "output_type": "stream",
     "text": [
      "d:\\software\\miniconda\\lib\\site-packages\\pyLDAvis\\_prepare.py:246: FutureWarning: In a future version of pandas all arguments of DataFrame.drop except for the argument 'labels' will be keyword-only.\n",
      "  default_term_info = default_term_info.sort_values(\n"
     ]
    },
    {
     "data": {
      "text/html": [
       "\n",
       "<link rel=\"stylesheet\" type=\"text/css\" href=\"https://cdn.jsdelivr.net/gh/bmabey/pyLDAvis@3.3.1/pyLDAvis/js/ldavis.v1.0.0.css\">\n",
       "\n",
       "\n",
       "<div id=\"ldavis_el2198423154476870886216308443\"></div>\n",
       "<script type=\"text/javascript\">\n",
       "\n",
       "var ldavis_el2198423154476870886216308443_data = {\"mdsDat\": {\"x\": [-0.07314123769906213, 0.16687036471855907, -0.09372912701949687], \"y\": [0.07728760682772243, -0.0061058779685181554, -0.07118172885920422], \"topics\": [1, 2, 3], \"cluster\": [1, 1, 1], \"Freq\": [9.744545197976192, 75.38858114826043, 14.866873653763388]}, \"tinfo\": {\"Term\": [\"facebook\", \"sinema\", \"new\", \"trump\", \"york\", \"adams\", \"smith\", \"state\", \"federal\", \"crypto\", \"counsel\", \"money\", \"city\", \"house\", \"tweet\", \"sharesharecomment\", \"republicans\", \"white\", \"called\", \"judge\", \"donald\", \"republican\", \"news\", \"office\", \"time\", \"justice\", \"raffensperger\", \"members\", \"government\", \"club\", \"smith\", \"raffensperger\", \"justice\", \"crime\", \"battleground\", \"subpoena\", \"brought\", \"scheme\", \"hourlong\", \"man\", \"united\", \"department\", \"states\", \"brad\", \"contempt\", \"appointment\", \"jury\", \"giuliani\", \"evidence\", \"reported\", \"motion\", \"deprive\", \"electoral\", \"campaign\", \"willfully\", \"steps\", \"records\", \"election\", \"grand\", \"code\", \"donald\", \"trump\", \"state\", \"government\", \"counsel\", \"white\", \"federal\", \"judge\", \"house\", \"new\", \"time\", \"york\", \"tweet\", \"supreme\", \"called\", \"sharesharecomment\", \"failure\", \"votes\", \"court\", \"republicans\", \"special\", \"months\", \"help\", \"sinema\", \"facebook\", \"cycling\", \"listing\", \"listed\", \"betty\", \"pair\", \"marketplace\", \"heels\", \"hat\", \"athletic\", \"groups\", \"bike\", \"user\", \"items\", \"democratic\", \"selling\", \"senator\", \"day\", \"racing\", \"pick\", \"wrote\", \"apartment\", \"epic\", \"march\", \"sales\", \"multiple\", \"member\", \"resale\", \"wearing\", \"senate\", \"arizona\", \"kyrsten\", \"including\", \"price\", \"like\", \"time\", \"members\", \"new\", \"democrats\", \"bicycle\", \"crypto\", \"york\", \"percent\", \"exchange\", \"incoming\", \"event\", \"bitcoin\", \"people\", \"gone\", \"daily\", \"cryptocurrency\", \"city\", \"republican\", \"taylor\", \"movement\", \"marjorie\", \"splc\", \"reporters\", \"major\", \"tell\", \"possible\", \"cryptocurrencies\", \"average\", \"lot\", \"incredible\", \"trading\", \"torres\", \"ethereum\", \"means\", \"hochul\", \"club\", \"adams\", \"republicans\", \"mayor\", \"new\", \"white\", \"news\", \"office\", \"called\", \"money\", \"trump\", \"sharesharecomment\", \"tweet\", \"young\", \"popular\", \"lost\", \"members\", \"time\", \"house\", \"said\"], \"Freq\": [122.0, 109.0, 23.0, 12.0, 9.0, 9.0, 5.0, 6.0, 11.0, 4.0, 6.0, 11.0, 4.0, 6.0, 9.0, 9.0, 4.0, 4.0, 6.0, 5.0, 3.0, 4.0, 5.0, 5.0, 17.0, 2.0, 2.0, 13.0, 3.0, 3.0, 5.073515899689652, 2.1283804883301665, 2.126826739173461, 1.637818748970599, 1.6371379108705333, 1.6364755031012017, 1.1468088092641067, 1.1468439533751638, 1.1467001245196298, 1.146763817574373, 1.1464958550206583, 1.1465894521904656, 1.1464439971292786, 1.1464016254375413, 1.146380665453569, 1.14626908967682, 1.146270715882473, 1.146156068383935, 1.146123092547082, 1.146067078796811, 1.1459027416810972, 1.1460328381333391, 1.1458890996225635, 1.1459353561389163, 1.146050455361247, 1.1459119568464644, 1.1457239494040232, 1.1456474273935726, 1.6382805913760576, 0.6559301404917168, 2.1298066706878678, 6.548473585610788, 2.6237912115680153, 1.639345214010237, 2.130739751353669, 1.6374336996098664, 2.1327667263554044, 1.6391695837997105, 1.6387066572571498, 1.1637038211724, 1.1542591801186746, 1.1527744543574643, 1.151291896870458, 1.1512499769025135, 1.1510472432644365, 1.1500670026346975, 1.1484082728686136, 1.148330486031544, 1.148300943295514, 1.148167052363415, 1.1479916028424058, 1.1478196767669777, 1.147808202982648, 108.81336342327964, 121.89578707658904, 24.105199793654545, 21.454737080125252, 18.820249598971333, 18.813522891044286, 16.174810947846407, 16.163841605139936, 16.15539547685747, 13.526727464760139, 13.526438098895447, 13.52487104993738, 13.5205906717843, 13.520195065312281, 13.519686228719296, 13.517281836027168, 10.887335441885096, 10.880787665507231, 21.473074768110912, 8.235482514092826, 8.234270532427667, 8.233857452171549, 8.232907577267884, 8.23073313957451, 8.23025505684154, 8.229464542848866, 8.229554008623458, 8.229612021586668, 8.22920593084419, 8.22842310531652, 18.829679850774298, 16.16030630914087, 16.168239407122165, 16.183033411692392, 10.878137940886342, 10.876442284877301, 13.54808462263824, 10.882458858218532, 13.531140643672376, 8.243189151832189, 8.240440875068977, 4.33498663940923, 8.479605934278261, 2.560065044534568, 2.5601642860835057, 1.9745509326404496, 1.9740176471503936, 1.9703699688849918, 1.9707863698840766, 1.9708206909197508, 1.969631446358313, 1.9685094655133777, 3.7453617220213338, 3.160133756593319, 1.3826561404915705, 1.3825637907168646, 1.3823421512575702, 1.3821097606304742, 1.3820000435847042, 1.380572205799362, 1.3804886774956726, 1.3795742768905985, 1.3794125958671208, 1.3792436095629574, 1.3793622859152288, 1.378698332385738, 1.3786256930853351, 1.3788765536673722, 1.3784317585584525, 1.378456155439233, 1.3781767629118762, 2.566211955807386, 6.110202375208106, 3.1604188003755462, 1.9705648682602668, 9.11271133096549, 2.5693496427796356, 2.572112968575614, 2.5668355235398788, 2.5660978280261078, 3.167987346836898, 3.1772239783333127, 2.5784448550688137, 2.5781997835771313, 1.9783964048263039, 1.9746820141863382, 1.9741501070511287, 2.587473354983428, 2.5856947258896876, 1.9867672916437207, 1.9846238120221493], \"Total\": [122.0, 109.0, 23.0, 12.0, 9.0, 9.0, 5.0, 6.0, 11.0, 4.0, 6.0, 11.0, 4.0, 6.0, 9.0, 9.0, 4.0, 4.0, 6.0, 5.0, 3.0, 4.0, 5.0, 5.0, 17.0, 2.0, 2.0, 13.0, 3.0, 3.0, 5.612496433751313, 2.6382727118981673, 2.6404342126644633, 2.1431998694849517, 2.143629490331756, 2.1445554800608613, 1.647824644982928, 1.6480776617513744, 1.6479614051126716, 1.6480597842112148, 1.648165569257933, 1.6484310577391563, 1.648243048664032, 1.6482046786577749, 1.6482792713138092, 1.6482338439399205, 1.648440579131375, 1.6484826586895478, 1.6485387318366131, 1.648542852563138, 1.6483302543763316, 1.648529081959161, 1.648324775587372, 1.6484158938218145, 1.648759058673811, 1.6487898300852613, 1.6485734219830048, 1.6488670784797173, 2.737069131120681, 1.1525325883998898, 3.8262749249279615, 12.719146545529794, 6.38050367254091, 3.3313671885191685, 6.478613167436239, 4.519402445272438, 11.779087742710676, 5.9838134759640855, 6.575186398360524, 23.807555795810266, 17.288038528646602, 9.963638580437813, 9.326604038559529, 5.485197509725158, 6.676922769867346, 9.327455118913424, 4.29983178110723, 4.299978585751431, 5.488250701971923, 4.61663763609167, 5.487363425978928, 4.299001675561568, 4.301148581008331, 109.41441608748609, 122.62778140683045, 24.52663930410587, 21.873001415799436, 19.224292541230348, 19.222661755504582, 16.57275919180943, 16.56888694330976, 16.56527602630237, 13.919495259935532, 13.919290703659339, 13.918972020873408, 13.917197244493188, 13.916954875355641, 13.916925263619337, 13.915963456712031, 11.269487363091097, 11.267399567547503, 22.373909357565257, 8.615214391719666, 8.614470953203929, 8.614602165698654, 8.614110925780526, 8.613339027433152, 8.613123705103702, 8.612789435558875, 8.61288991865096, 8.613101090515439, 8.61304424345481, 8.612471516500632, 19.820712907334766, 17.0618312770295, 17.757424524849696, 18.256383988209944, 11.859468113211891, 12.352938310015483, 17.288038528646602, 13.640778905920827, 23.807555795810266, 9.211169896730919, 9.110802716749602, 4.814937922464384, 9.963638580437813, 3.0331021204354855, 3.033234801698396, 2.43858697123683, 2.438421917922702, 2.438736588561937, 2.439272531881269, 2.439505372015499, 2.4387854298498195, 2.4392149147595736, 4.716108563180937, 4.121958588795584, 1.8447335759170196, 1.8446909505995777, 1.8448712862615908, 1.8449527765866671, 1.8448730210421989, 1.8448914728141472, 1.844968438703764, 1.8449148593284104, 1.8451532808314226, 1.845036958952074, 1.8452528974645452, 1.8448826495797785, 1.8449097655512596, 1.845272859038575, 1.8449215864758344, 1.8450360540809, 1.8449631056871956, 3.528308178346088, 9.246757988730003, 4.61663763609167, 2.9342253623263446, 23.807555795810266, 4.519402445272438, 5.683597046154002, 5.683566293998843, 6.676922769867346, 11.582020066991305, 12.719146545529794, 9.327455118913424, 9.326604038559529, 5.091066555072812, 5.0913037417087414, 5.587164066225517, 13.640778905920827, 17.288038528646602, 6.575186398360524, 7.741670446426987], \"Category\": [\"Default\", \"Default\", \"Default\", \"Default\", \"Default\", \"Default\", \"Default\", \"Default\", \"Default\", \"Default\", \"Default\", \"Default\", \"Default\", \"Default\", \"Default\", \"Default\", \"Default\", \"Default\", \"Default\", \"Default\", \"Default\", \"Default\", \"Default\", \"Default\", \"Default\", \"Default\", \"Default\", \"Default\", \"Default\", \"Default\", \"Topic1\", \"Topic1\", \"Topic1\", \"Topic1\", \"Topic1\", \"Topic1\", \"Topic1\", \"Topic1\", \"Topic1\", \"Topic1\", \"Topic1\", \"Topic1\", \"Topic1\", \"Topic1\", \"Topic1\", \"Topic1\", \"Topic1\", \"Topic1\", \"Topic1\", \"Topic1\", \"Topic1\", \"Topic1\", \"Topic1\", \"Topic1\", \"Topic1\", \"Topic1\", \"Topic1\", \"Topic1\", \"Topic1\", \"Topic1\", \"Topic1\", \"Topic1\", \"Topic1\", \"Topic1\", \"Topic1\", \"Topic1\", \"Topic1\", \"Topic1\", \"Topic1\", \"Topic1\", \"Topic1\", \"Topic1\", \"Topic1\", \"Topic1\", \"Topic1\", \"Topic1\", \"Topic1\", \"Topic1\", \"Topic1\", \"Topic1\", \"Topic1\", \"Topic1\", \"Topic1\", \"Topic2\", \"Topic2\", \"Topic2\", \"Topic2\", \"Topic2\", \"Topic2\", \"Topic2\", \"Topic2\", \"Topic2\", \"Topic2\", \"Topic2\", \"Topic2\", \"Topic2\", \"Topic2\", \"Topic2\", \"Topic2\", \"Topic2\", \"Topic2\", \"Topic2\", \"Topic2\", \"Topic2\", \"Topic2\", \"Topic2\", \"Topic2\", \"Topic2\", \"Topic2\", \"Topic2\", \"Topic2\", \"Topic2\", \"Topic2\", \"Topic2\", \"Topic2\", \"Topic2\", \"Topic2\", \"Topic2\", \"Topic2\", \"Topic2\", \"Topic2\", \"Topic2\", \"Topic2\", \"Topic2\", \"Topic3\", \"Topic3\", \"Topic3\", \"Topic3\", \"Topic3\", \"Topic3\", \"Topic3\", \"Topic3\", \"Topic3\", \"Topic3\", \"Topic3\", \"Topic3\", \"Topic3\", \"Topic3\", \"Topic3\", \"Topic3\", \"Topic3\", \"Topic3\", \"Topic3\", \"Topic3\", \"Topic3\", \"Topic3\", \"Topic3\", \"Topic3\", \"Topic3\", \"Topic3\", \"Topic3\", \"Topic3\", \"Topic3\", \"Topic3\", \"Topic3\", \"Topic3\", \"Topic3\", \"Topic3\", \"Topic3\", \"Topic3\", \"Topic3\", \"Topic3\", \"Topic3\", \"Topic3\", \"Topic3\", \"Topic3\", \"Topic3\", \"Topic3\", \"Topic3\", \"Topic3\", \"Topic3\", \"Topic3\", \"Topic3\", \"Topic3\"], \"logprob\": [30.0, 29.0, 28.0, 27.0, 26.0, 25.0, 24.0, 23.0, 22.0, 21.0, 20.0, 19.0, 18.0, 17.0, 16.0, 15.0, 14.0, 13.0, 12.0, 11.0, 10.0, 9.0, 8.0, 7.0, 6.0, 5.0, 4.0, 3.0, 2.0, 1.0, -4.337, -5.2057, -5.2064, -5.4677, -5.4681, -5.4685, -5.8241, -5.8241, -5.8242, -5.8241, -5.8244, -5.8243, -5.8244, -5.8244, -5.8245, -5.8246, -5.8246, -5.8247, -5.8247, -5.8247, -5.8249, -5.8248, -5.8249, -5.8249, -5.8248, -5.8249, -5.825, -5.8251, -5.4674, -6.3828, -5.205, -4.0818, -4.9965, -5.4668, -5.2046, -5.4679, -5.2037, -5.4669, -5.4672, -5.8095, -5.8176, -5.8189, -5.8202, -5.8202, -5.8204, -5.8213, -5.8227, -5.8228, -5.8228, -5.8229, -5.8231, -5.8232, -5.8232, -3.3174, -3.2039, -4.8246, -4.9411, -5.0721, -5.0724, -5.2236, -5.2242, -5.2248, -5.4024, -5.4024, -5.4025, -5.4028, -5.4028, -5.4029, -5.4031, -5.6194, -5.62, -4.9402, -5.8986, -5.8987, -5.8988, -5.8989, -5.8992, -5.8992, -5.8993, -5.8993, -5.8993, -5.8993, -5.8994, -5.0716, -5.2245, -5.224, -5.2231, -5.6203, -5.6204, -5.4008, -5.6199, -5.402, -5.8976, -5.898, -4.9168, -4.2458, -5.4435, -5.4434, -5.7032, -5.7034, -5.7053, -5.7051, -5.7051, -5.7057, -5.7062, -5.063, -5.2329, -6.0595, -6.0596, -6.0597, -6.0599, -6.06, -6.061, -6.0611, -6.0617, -6.0618, -6.062, -6.0619, -6.0624, -6.0624, -6.0622, -6.0626, -6.0625, -6.0627, -5.4411, -4.5735, -5.2328, -5.7052, -4.1738, -5.4399, -5.4388, -5.4408, -5.4411, -5.2304, -5.2275, -5.4363, -5.4364, -5.7012, -5.7031, -5.7034, -5.4328, -5.4335, -5.697, -5.6981], \"loglift\": [30.0, 29.0, 28.0, 27.0, 26.0, 25.0, 24.0, 23.0, 22.0, 21.0, 20.0, 19.0, 18.0, 17.0, 16.0, 15.0, 14.0, 13.0, 12.0, 11.0, 10.0, 9.0, 8.0, 7.0, 6.0, 5.0, 4.0, 3.0, 2.0, 1.0, 2.2275, 2.1137, 2.1122, 2.0595, 2.0589, 2.0581, 1.966, 1.9659, 1.9658, 1.9658, 1.9655, 1.9654, 1.9654, 1.9654, 1.9653, 1.9653, 1.9651, 1.965, 1.965, 1.9649, 1.9649, 1.9649, 1.9649, 1.9649, 1.9648, 1.9646, 1.9646, 1.9643, 1.8152, 1.7648, 1.7426, 1.6646, 1.4398, 1.6194, 1.2164, 1.3132, 0.6196, 1.0336, 0.9391, -0.6899, -0.3781, 0.1717, 0.2365, 0.7673, 0.5705, 0.2353, 1.0083, 1.0082, 0.7641, 0.937, 0.764, 1.0079, 1.0074, 0.277, 0.2765, 0.2652, 0.2632, 0.2613, 0.261, 0.2582, 0.2578, 0.2575, 0.2539, 0.2539, 0.2538, 0.2536, 0.2536, 0.2536, 0.2534, 0.248, 0.2476, 0.2414, 0.2374, 0.2374, 0.2373, 0.2373, 0.2371, 0.237, 0.237, 0.237, 0.237, 0.2369, 0.2369, 0.2312, 0.2282, 0.1888, 0.162, 0.1961, 0.1552, 0.0387, 0.0566, -0.2825, 0.1715, 0.1821, 1.801, 1.7448, 1.7365, 1.7365, 1.695, 1.6948, 1.6928, 1.6928, 1.6927, 1.6924, 1.6916, 1.6756, 1.6403, 1.6177, 1.6177, 1.6174, 1.6172, 1.6172, 1.6161, 1.616, 1.6154, 1.6151, 1.6151, 1.615, 1.6148, 1.6147, 1.6147, 1.6145, 1.6145, 1.6143, 1.5876, 1.4917, 1.5271, 1.5079, 0.9457, 1.3413, 1.1132, 1.1111, 0.9498, 0.6097, 0.5189, 0.6203, 0.6203, 0.9608, 0.9589, 0.8657, 0.2437, 0.006, 0.7092, 0.5448]}, \"token.table\": {\"Topic\": [2, 3, 2, 1, 1, 2, 2, 3, 1, 2, 1, 2, 2, 3, 1, 1, 1, 2, 3, 1, 1, 3, 1, 3, 1, 1, 1, 2, 3, 1, 2, 3, 1, 3, 3, 3, 2, 3, 1, 2, 2, 2, 3, 1, 1, 1, 3, 1, 1, 2, 3, 3, 1, 3, 2, 3, 1, 2, 1, 2, 3, 1, 3, 1, 3, 1, 3, 2, 2, 2, 1, 2, 3, 1, 1, 2, 3, 1, 2, 3, 3, 3, 2, 1, 2, 3, 1, 1, 2, 3, 1, 2, 3, 2, 2, 1, 2, 3, 3, 3, 1, 2, 3, 2, 1, 3, 3, 2, 2, 3, 2, 3, 1, 2, 1, 3, 2, 1, 2, 3, 2, 3, 2, 3, 2, 3, 3, 2, 2, 3, 3, 2, 3, 2, 1, 1, 1, 3, 1, 3, 1, 3, 2, 2, 3, 2, 1, 2, 2, 3, 2, 1, 2, 3, 2, 1, 1, 2, 3, 3, 1, 2, 3, 1, 1, 1, 1, 2, 3, 3, 3, 1, 2, 3, 3, 3, 1, 2, 3, 1, 2, 3, 1, 2, 1, 2, 2, 1, 3, 1, 2, 1, 3, 2, 3], \"Freq\": [0.3244380358668861, 0.6488760717337722, 0.9287087279149611, 0.6067100270248127, 0.05861035569765064, 0.9377656911624103, 1.0057983770911145, 0.5419945628449471, 0.9329970543046003, 0.9884167053274596, 0.10975981272885724, 0.8780785018308579, 1.0059496717659566, 0.8200967703442505, 0.6067207628693032, 0.6068606893607665, 0.14976959214100175, 0.4493087764230052, 0.4493087764230052, 0.6066430223998405, 0.2120392239922307, 0.8481568959689229, 0.2834219545041995, 0.8502658635125985, 0.867654424755436, 0.6066933058030395, 0.3087080441926514, 0.46306206628897717, 0.1543540220963257, 0.18220741986890304, 0.5466222596067091, 0.18220741986890304, 0.9331840807178823, 0.8307479897794234, 0.5419603945041367, 0.8199359506610487, 0.9785278652498588, 0.8200803463563254, 0.04469491603003529, 0.9385932366307411, 1.0060388591526113, 0.8685107418156767, 0.10856384272695958, 0.606637441890662, 0.6066013702418706, 0.5227015933878966, 0.2613507966939483, 0.606477024771467, 0.606676557199509, 0.928791955653935, 0.5420284565644863, 0.8202026012396597, 0.606597819443353, 0.9890431160555765, 0.9948805939434905, 0.008154758966749923, 0.23256723772168003, 0.6977017131650401, 0.16979243585630577, 0.6791697434252231, 0.08489621792815288, 0.6066184528716514, 0.8198383258109478, 0.6003541149389249, 0.30017705746946244, 0.730708617206577, 0.3653543086032885, 1.0058214054173742, 1.005783596212442, 0.9658758462337226, 0.23249603708541663, 0.6974881112562499, 0.5420162587086146, 0.6068103275341146, 0.30417388630970005, 0.45626082946455004, 0.30417388630970005, 0.05477535971229596, 0.8764057553967354, 0.05477535971229596, 0.8201470866489611, 0.5420398962653677, 1.0059693312141176, 0.3342350171898981, 0.5013525257848471, 0.16711750859494906, 0.6066339379530061, 0.7574511761767392, 0.9010315644371536, 0.0563144727773221, 0.0809523997370911, 0.8904763971080021, 0.0809523997370911, 0.9883328585044517, 0.9600877173093929, 0.178981678029649, 0.536945034088947, 0.357963356059298, 0.5419311365797295, 0.5420373039475472, 0.606774104665514, 0.928815174831357, 0.5420432349111897, 0.9656653494434357, 0.3408054517009454, 0.6816109034018908, 0.5419948286583198, 0.9288176135317194, 0.8064055634847518, 0.21992879004129592, 0.690725793404551, 0.2590221725267066, 0.2326121447415748, 0.6978364342247243, 0.6066745407026237, 0.5420962246684038, 0.9288403863929846, 0.042003471863163014, 0.5880486060842821, 0.3780312467684671, 0.5278347454329211, 0.5278347454329211, 0.5278376013960876, 0.5278376013960876, 0.9654397203760435, 0.8199165832681747, 0.9890863811632122, 0.9286699140850441, 0.5892400359899056, 0.3928266906599371, 0.542030432972946, 0.9275289494429846, 0.08432081358572587, 0.9285897757447606, 0.7580717455706287, 0.6065850550939605, 0.6065963031808423, 0.5420427252142718, 0.24260311656653374, 0.7278093496996012, 0.21660786027091677, 0.6498235808127504, 0.9288237438324234, 0.7750265322607707, 0.2583421774202569, 0.9288512229233301, 0.6067675226768883, 0.9760869900814034, 0.9585931691169869, 0.050452272058788786, 0.9762678543576576, 0.10721037917108651, 0.6432622750265191, 0.32163113751325956, 0.9962124178668127, 0.8908691629507318, 0.18223688179020206, 0.5467106453706061, 0.18223688179020206, 0.5420192932255384, 0.470182316940084, 0.470182316940084, 0.156727438980028, 0.6067066388118795, 0.6065054391730986, 0.9325941989354555, 0.18230884088075547, 0.5469265226422664, 0.18230884088075547, 0.5420836987275512, 0.5420146919708714, 0.057843462018145164, 0.8098084682540323, 0.1735303860544355, 0.5419252741413108, 0.5420319295134739, 0.5503513914980549, 0.23586488207059494, 0.23586488207059494, 0.1072201624370072, 0.6433209746220432, 0.3216604873110216, 0.6067351597753848, 1.0059671907675303, 0.23255929769362974, 0.6976778930808892, 0.928885510352377, 0.442536380465988, 0.6638045706989819, 0.6065167586125991, 0.928655769137447, 0.1003649411735345, 0.802919529388276, 0.5892674879708175, 0.39284499198054507], \"Term\": [\"adams\", \"adams\", \"apartment\", \"appointment\", \"arizona\", \"arizona\", \"athletic\", \"average\", \"battleground\", \"betty\", \"bicycle\", \"bicycle\", \"bike\", \"bitcoin\", \"brad\", \"brought\", \"called\", \"called\", \"called\", \"campaign\", \"city\", \"city\", \"club\", \"club\", \"code\", \"contempt\", \"counsel\", \"counsel\", \"counsel\", \"court\", \"court\", \"court\", \"crime\", \"crypto\", \"cryptocurrencies\", \"cryptocurrency\", \"cycling\", \"daily\", \"day\", \"day\", \"democratic\", \"democrats\", \"democrats\", \"department\", \"deprive\", \"donald\", \"donald\", \"election\", \"electoral\", \"epic\", \"ethereum\", \"event\", \"evidence\", \"exchange\", \"facebook\", \"facebook\", \"failure\", \"failure\", \"federal\", \"federal\", \"federal\", \"giuliani\", \"gone\", \"government\", \"government\", \"grand\", \"grand\", \"groups\", \"hat\", \"heels\", \"help\", \"help\", \"hochul\", \"hourlong\", \"house\", \"house\", \"house\", \"including\", \"including\", \"including\", \"incoming\", \"incredible\", \"items\", \"judge\", \"judge\", \"judge\", \"jury\", \"justice\", \"kyrsten\", \"kyrsten\", \"like\", \"like\", \"like\", \"listed\", \"listing\", \"lost\", \"lost\", \"lost\", \"lot\", \"major\", \"man\", \"march\", \"marjorie\", \"marketplace\", \"mayor\", \"mayor\", \"means\", \"member\", \"members\", \"members\", \"money\", \"money\", \"months\", \"months\", \"motion\", \"movement\", \"multiple\", \"new\", \"new\", \"new\", \"news\", \"news\", \"office\", \"office\", \"pair\", \"people\", \"percent\", \"pick\", \"popular\", \"popular\", \"possible\", \"price\", \"price\", \"racing\", \"raffensperger\", \"records\", \"reported\", \"reporters\", \"republican\", \"republican\", \"republicans\", \"republicans\", \"resale\", \"said\", \"said\", \"sales\", \"scheme\", \"selling\", \"senate\", \"senate\", \"senator\", \"sharesharecomment\", \"sharesharecomment\", \"sharesharecomment\", \"sinema\", \"smith\", \"special\", \"special\", \"special\", \"splc\", \"state\", \"state\", \"state\", \"states\", \"steps\", \"subpoena\", \"supreme\", \"supreme\", \"supreme\", \"taylor\", \"tell\", \"time\", \"time\", \"time\", \"torres\", \"trading\", \"trump\", \"trump\", \"trump\", \"tweet\", \"tweet\", \"tweet\", \"united\", \"user\", \"votes\", \"votes\", \"wearing\", \"white\", \"white\", \"willfully\", \"wrote\", \"york\", \"york\", \"young\", \"young\"]}, \"R\": 30, \"lambda.step\": 0.01, \"plot.opts\": {\"xlab\": \"PC1\", \"ylab\": \"PC2\"}, \"topic.order\": [1, 2, 3]};\n",
       "\n",
       "function LDAvis_load_lib(url, callback){\n",
       "  var s = document.createElement('script');\n",
       "  s.src = url;\n",
       "  s.async = true;\n",
       "  s.onreadystatechange = s.onload = callback;\n",
       "  s.onerror = function(){console.warn(\"failed to load library \" + url);};\n",
       "  document.getElementsByTagName(\"head\")[0].appendChild(s);\n",
       "}\n",
       "\n",
       "if(typeof(LDAvis) !== \"undefined\"){\n",
       "   // already loaded: just create the visualization\n",
       "   !function(LDAvis){\n",
       "       new LDAvis(\"#\" + \"ldavis_el2198423154476870886216308443\", ldavis_el2198423154476870886216308443_data);\n",
       "   }(LDAvis);\n",
       "}else if(typeof define === \"function\" && define.amd){\n",
       "   // require.js is available: use it to load d3/LDAvis\n",
       "   require.config({paths: {d3: \"https://d3js.org/d3.v5\"}});\n",
       "   require([\"d3\"], function(d3){\n",
       "      window.d3 = d3;\n",
       "      LDAvis_load_lib(\"https://cdn.jsdelivr.net/gh/bmabey/pyLDAvis@3.3.1/pyLDAvis/js/ldavis.v3.0.0.js\", function(){\n",
       "        new LDAvis(\"#\" + \"ldavis_el2198423154476870886216308443\", ldavis_el2198423154476870886216308443_data);\n",
       "      });\n",
       "    });\n",
       "}else{\n",
       "    // require.js not available: dynamically load d3 & LDAvis\n",
       "    LDAvis_load_lib(\"https://d3js.org/d3.v5.js\", function(){\n",
       "         LDAvis_load_lib(\"https://cdn.jsdelivr.net/gh/bmabey/pyLDAvis@3.3.1/pyLDAvis/js/ldavis.v3.0.0.js\", function(){\n",
       "                 new LDAvis(\"#\" + \"ldavis_el2198423154476870886216308443\", ldavis_el2198423154476870886216308443_data);\n",
       "            })\n",
       "         });\n",
       "}\n",
       "</script>"
      ],
      "text/plain": [
       "<IPython.core.display.HTML object>"
      ]
     },
     "execution_count": 58,
     "metadata": {},
     "output_type": "execute_result"
    }
   ],
   "source": [
    "import pyLDAvis.gensim_models\n",
    "pyLDAvis.enable_notebook()\n",
    "lda_display = pyLDAvis.gensim_models.prepare(lda, corpus, dictionary, sort_topics=False)\n",
    "pyLDAvis.display(lda_display)"
   ]
  },
  {
   "attachments": {},
   "cell_type": "markdown",
   "metadata": {},
   "source": [
    "# Similarity Analysis"
   ]
  },
  {
   "attachments": {},
   "cell_type": "markdown",
   "metadata": {},
   "source": [
    "**Given a corpus of documents, when a new document arrives, find the document that is the most similar**\n",
    "- tf-idf: term frequency-inverse doc frequence\n",
    "- X: matrix of tf-idf between words and documents (w,m)\n",
    "- SVD(simgular value decomposition): (w,m) = u * thegema * V-tranpose ((w,k)*(k,k)*(k,m)) -----> dimension reduction: (W,1) for 1 domucment, can be transformed to (K,1)"
   ]
  },
  {
   "cell_type": "code",
   "execution_count": 60,
   "metadata": {},
   "outputs": [],
   "source": [
    "doc_list = [community_data,le_monde_data,fiveguys_data,shakeshack_data]\n",
    "all_text = community_data.raw() + le_monde_data.raw() + fiveguys_data.raw() + shakeshack_data.raw()\n",
    "\n",
    "documents = [doc.raw() for doc in doc_list]\n",
    "texts = [[word for word in document.lower().split()\n",
    "        if word not in STOPWORDS and word.isalnum()]\n",
    "        for document in documents]\n",
    "dictionary = corpora.Dictionary(texts)\n",
    "corpus = [dictionary.doc2bow(text) for text in texts]"
   ]
  },
  {
   "cell_type": "code",
   "execution_count": 66,
   "metadata": {},
   "outputs": [
    {
     "name": "stderr",
     "output_type": "stream",
     "text": [
      "d:\\software\\miniconda\\lib\\site-packages\\gensim\\models\\lsimodel.py:963: DeprecationWarning: Please use `csc_matvecs` from the `scipy.sparse` namespace, the `scipy.sparse.sparsetools` namespace is deprecated.\n",
      "  sparsetools.csc_matvecs(\n"
     ]
    },
    {
     "data": {
      "text/plain": [
       "[(1, 0.99406147), (0, 0.98726636), (2, 0.65141773), (3, 0.43748194)]"
      ]
     },
     "execution_count": 66,
     "metadata": {},
     "output_type": "execute_result"
    }
   ],
   "source": [
    "from gensim.similarities.docsim import Similarity\n",
    "from gensim import corpora, models, similarities\n",
    "lsi = models.LsiModel(corpus, id2word=dictionary, num_topics=2) # number_topics: number of dimensions\n",
    "\n",
    "doc1 = \"\"\"\n",
    "Many, many years ago, I used to frequent this place for their amazing french toast. \n",
    "It's been a while since then and I've been hesitant to review a place I haven't been to in 7-8 years... \n",
    "but I passed by French Roast and, feeling nostalgic, decided to go back.\n",
    "\n",
    "It was a great decision.\n",
    "\n",
    "Their Bloody Mary is fantastic and includes bacon (which was perfectly cooked!!), olives, \n",
    "cucumber, and celery. The Irish coffee is also excellent, even without the cream which is what I ordered.\n",
    "\n",
    "Great food, great drinks, a great ambiance that is casual yet familiar like a tiny little French cafe. \n",
    "I highly recommend coming here, and will be back whenever I'm in the area next.\n",
    "\n",
    "Juan, the bartender, is great!! One of the best in any brunch spot in the city, by far.\n",
    "\"\"\"\n",
    "\n",
    "doc2 = \"brunch place mimosa\"\n",
    "vec_bow = dictionary.doc2bow(doc1.lower().split())\n",
    "vec_lsi = lsi[vec_bow]\n",
    "index = similarities.MatrixSimilarity(lsi[corpus])\n",
    "sims = index[vec_lsi]\n",
    "sims = sorted(enumerate(sims), key=lambda item: -item[1])\n",
    "sims"
   ]
  },
  {
   "cell_type": "code",
   "execution_count": 67,
   "metadata": {},
   "outputs": [
    {
     "data": {
      "text/plain": [
       "[(0, 0.9836155), (1, 0.90042067), (2, 0.36014846), (3, 0.11153948)]"
      ]
     },
     "execution_count": 67,
     "metadata": {},
     "output_type": "execute_result"
    }
   ],
   "source": [
    "vec_bow = dictionary.doc2bow(doc2.lower().split())\n",
    "vec_lsi = lsi[vec_bow]\n",
    "index = similarities.MatrixSimilarity(lsi[corpus])\n",
    "sims = index[vec_lsi]\n",
    "sims = sorted(enumerate(sims), key=lambda item: -item[1])\n",
    "sims"
   ]
  },
  {
   "cell_type": "code",
   "execution_count": null,
   "metadata": {},
   "outputs": [],
   "source": []
  }
 ],
 "metadata": {
  "kernelspec": {
   "display_name": "base",
   "language": "python",
   "name": "python3"
  },
  "language_info": {
   "codemirror_mode": {
    "name": "ipython",
    "version": 3
   },
   "file_extension": ".py",
   "mimetype": "text/x-python",
   "name": "python",
   "nbconvert_exporter": "python",
   "pygments_lexer": "ipython3",
   "version": "3.9.12"
  },
  "orig_nbformat": 4,
  "vscode": {
   "interpreter": {
    "hash": "e2ad4952f491032d71626255937cf2715f7899e712ce34d34f8ad00db942d78f"
   }
  }
 },
 "nbformat": 4,
 "nbformat_minor": 2
}
